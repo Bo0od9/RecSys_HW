{
 "cells": [
  {
   "cell_type": "markdown",
   "id": "93831896-683d-4946-8cae-7aff56608a65",
   "metadata": {},
   "source": [
    "## ДЗ №2. Матричные факторизации"
   ]
  },
  {
   "cell_type": "markdown",
   "id": "03b424ec-3791-4113-a672-25ef7cfa704d",
   "metadata": {},
   "source": [
    "#### В этой домашке вам предстоит реализовать некоторые базовые модели матричной факторизации\n",
    "\n",
    "#### Дата выдачи: 17.02.25\n",
    "\n",
    "#### Мягкий дедлайн: 02.03.25 23:59 MSK\n",
    "\n",
    "#### Жесткий дедлайн: 09.03.25 23:59 MSK"
   ]
  },
  {
   "cell_type": "markdown",
   "id": "d8f4b315-75b8-4225-953c-5510c584ff2b",
   "metadata": {},
   "source": [
    "В этом задании мы будем работать с классическим для рекоендательных систем датасетом [MovieLens 1M](https://grouplens.org/datasets/movielens/1m/). Датасет содержит рейтинги оценки для 4000 фильмов от 6000 пользователей. Более подробное описание можете найти на странице с датасетом и в README файле"
   ]
  },
  {
   "cell_type": "code",
   "execution_count": 4,
   "id": "f5a85f84-4854-4249-963d-143d08bb7e36",
   "metadata": {},
   "outputs": [],
   "source": [
    "# !wget https://files.grouplens.org/datasets/movielens/ml-1m.zip\n",
    "# !unzip ml-1m.zip\n",
    "# !cat ml-1m/README"
   ]
  },
  {
   "cell_type": "code",
   "execution_count": 5,
   "id": "669137ca-f0f9-48d4-ae04-e42a4b0f8d14",
   "metadata": {},
   "outputs": [],
   "source": [
    "import time\n",
    "import pandas as pd\n",
    "import numpy as np\n",
    "from typing import Union\n",
    "from sklearn.preprocessing import LabelEncoder\n",
    "from scipy.sparse import coo_array, csr_matrix\n",
    "from scipy.sparse.linalg import svds\n",
    "from scipy import linalg\n",
    "import matplotlib.pyplot as plt\n",
    "from sklearn.metrics import ndcg_score\n",
    "from implicit.als import AlternatingLeastSquares\n",
    "from tqdm import trange"
   ]
  },
  {
   "cell_type": "code",
   "execution_count": 6,
   "id": "ed65b0ae-ce2d-437a-9739-e7981011089f",
   "metadata": {},
   "outputs": [
    {
     "data": {
      "text/html": [
       "<div>\n",
       "<style scoped>\n",
       "    .dataframe tbody tr th:only-of-type {\n",
       "        vertical-align: middle;\n",
       "    }\n",
       "\n",
       "    .dataframe tbody tr th {\n",
       "        vertical-align: top;\n",
       "    }\n",
       "\n",
       "    .dataframe thead th {\n",
       "        text-align: right;\n",
       "    }\n",
       "</style>\n",
       "<table border=\"1\" class=\"dataframe\">\n",
       "  <thead>\n",
       "    <tr style=\"text-align: right;\">\n",
       "      <th></th>\n",
       "      <th>user_id</th>\n",
       "      <th>item_id</th>\n",
       "      <th>rating</th>\n",
       "      <th>datetime</th>\n",
       "    </tr>\n",
       "  </thead>\n",
       "  <tbody>\n",
       "    <tr>\n",
       "      <th>0</th>\n",
       "      <td>1</td>\n",
       "      <td>1193</td>\n",
       "      <td>5</td>\n",
       "      <td>2000-12-31 22:12:40</td>\n",
       "    </tr>\n",
       "    <tr>\n",
       "      <th>1</th>\n",
       "      <td>1</td>\n",
       "      <td>661</td>\n",
       "      <td>3</td>\n",
       "      <td>2000-12-31 22:35:09</td>\n",
       "    </tr>\n",
       "    <tr>\n",
       "      <th>2</th>\n",
       "      <td>1</td>\n",
       "      <td>914</td>\n",
       "      <td>3</td>\n",
       "      <td>2000-12-31 22:32:48</td>\n",
       "    </tr>\n",
       "    <tr>\n",
       "      <th>3</th>\n",
       "      <td>1</td>\n",
       "      <td>3408</td>\n",
       "      <td>4</td>\n",
       "      <td>2000-12-31 22:04:35</td>\n",
       "    </tr>\n",
       "    <tr>\n",
       "      <th>4</th>\n",
       "      <td>1</td>\n",
       "      <td>2355</td>\n",
       "      <td>5</td>\n",
       "      <td>2001-01-06 23:38:11</td>\n",
       "    </tr>\n",
       "  </tbody>\n",
       "</table>\n",
       "</div>"
      ],
      "text/plain": [
       "   user_id  item_id  rating            datetime\n",
       "0        1     1193       5 2000-12-31 22:12:40\n",
       "1        1      661       3 2000-12-31 22:35:09\n",
       "2        1      914       3 2000-12-31 22:32:48\n",
       "3        1     3408       4 2000-12-31 22:04:35\n",
       "4        1     2355       5 2001-01-06 23:38:11"
      ]
     },
     "execution_count": 6,
     "metadata": {},
     "output_type": "execute_result"
    }
   ],
   "source": [
    "df = pd.read_csv(\"ml-1m/ratings.dat\", sep='::', names=['user_id', 'item_id', 'rating', 'timestamp'], engine='python')\n",
    "df['datetime'] = pd.to_datetime(df['timestamp'], unit='s')\n",
    "df.drop('timestamp', axis=1, inplace=True)\n",
    "df.head()"
   ]
  },
  {
   "cell_type": "code",
   "execution_count": 7,
   "id": "4988d476-542e-4a32-9c45-7a16bc2a5db5",
   "metadata": {},
   "outputs": [],
   "source": [
    "value_counts = df['item_id'].value_counts()\n",
    "filtered_values = value_counts[value_counts > 20].index\n",
    "df = df[df['item_id'].isin(filtered_values)].copy()"
   ]
  },
  {
   "cell_type": "code",
   "execution_count": 8,
   "id": "1e05bd3b-ab2f-4c02-9a97-a4153e9550bc",
   "metadata": {},
   "outputs": [
    {
     "data": {
      "text/plain": [
       "((787420, 4), (207432, 4))"
      ]
     },
     "execution_count": 8,
     "metadata": {},
     "output_type": "execute_result"
    }
   ],
   "source": [
    "train_end = '2000-12-01'\n",
    "df_train = df[df['datetime'] < train_end].copy()\n",
    "df_test = df[df['datetime'] >= train_end].copy()\n",
    "df_train.shape, df_test.shape"
   ]
  },
  {
   "cell_type": "code",
   "execution_count": 9,
   "id": "414b8ed7-20d6-4778-9d60-f9c8ccbfa7e3",
   "metadata": {},
   "outputs": [
    {
     "data": {
      "text/plain": [
       "(106471, 4)"
      ]
     },
     "execution_count": 9,
     "metadata": {},
     "output_type": "execute_result"
    }
   ],
   "source": [
    "train_users = df_train['user_id'].unique()\n",
    "train_items = df_train['item_id'].unique()\n",
    "\n",
    "df_test = df_test[df_test['user_id'].isin(train_users)]\n",
    "df_test = df_test[df_test['item_id'].isin(train_items)]\n",
    "df_test.shape"
   ]
  },
  {
   "cell_type": "code",
   "execution_count": 10,
   "id": "19f53d61-990c-4626-a470-7eefd06d2ec7",
   "metadata": {},
   "outputs": [],
   "source": [
    "user_le = LabelEncoder()\n",
    "item_le = LabelEncoder()\n",
    "\n",
    "df_train['user_id'] = user_le.fit_transform(df_train['user_id'])\n",
    "df_train['item_id'] = item_le.fit_transform(df_train['item_id'])\n",
    "\n",
    "df_test['user_id'] = user_le.transform(df_test['user_id'])\n",
    "df_test['item_id'] = item_le.transform(df_test['item_id'])"
   ]
  },
  {
   "cell_type": "code",
   "execution_count": 11,
   "id": "f4ef3e2f-792d-4511-b4d0-74495d9cb30b",
   "metadata": {},
   "outputs": [
    {
     "data": {
      "text/plain": [
       "(5365, 5364)"
      ]
     },
     "execution_count": 11,
     "metadata": {},
     "output_type": "execute_result"
    }
   ],
   "source": [
    "df_train['user_id'].nunique(), df_train['user_id'].max()"
   ]
  },
  {
   "cell_type": "code",
   "execution_count": 12,
   "id": "e60d5cf4-9334-4e5f-b30e-65e525229cb9",
   "metadata": {},
   "outputs": [
    {
     "data": {
      "text/plain": [
       "(3010, 3009)"
      ]
     },
     "execution_count": 12,
     "metadata": {},
     "output_type": "execute_result"
    }
   ],
   "source": [
    "df_train['item_id'].nunique(), df_train['item_id'].max()"
   ]
  },
  {
   "cell_type": "code",
   "execution_count": 13,
   "id": "2fafc6b7-796d-40c7-bd84-84b39a0ede77",
   "metadata": {},
   "outputs": [
    {
     "data": {
      "text/html": [
       "<div>\n",
       "<style scoped>\n",
       "    .dataframe tbody tr th:only-of-type {\n",
       "        vertical-align: middle;\n",
       "    }\n",
       "\n",
       "    .dataframe tbody tr th {\n",
       "        vertical-align: top;\n",
       "    }\n",
       "\n",
       "    .dataframe thead th {\n",
       "        text-align: right;\n",
       "    }\n",
       "</style>\n",
       "<table border=\"1\" class=\"dataframe\">\n",
       "  <thead>\n",
       "    <tr style=\"text-align: right;\">\n",
       "      <th></th>\n",
       "      <th>user_id</th>\n",
       "      <th>item_id</th>\n",
       "      <th>rating</th>\n",
       "      <th>datetime</th>\n",
       "    </tr>\n",
       "  </thead>\n",
       "  <tbody>\n",
       "    <tr>\n",
       "      <th>100409</th>\n",
       "      <td>0</td>\n",
       "      <td>2994</td>\n",
       "      <td>3</td>\n",
       "      <td>2000-11-30 23:49:23</td>\n",
       "    </tr>\n",
       "    <tr>\n",
       "      <th>100411</th>\n",
       "      <td>0</td>\n",
       "      <td>929</td>\n",
       "      <td>4</td>\n",
       "      <td>2000-11-30 23:52:33</td>\n",
       "    </tr>\n",
       "    <tr>\n",
       "      <th>100412</th>\n",
       "      <td>0</td>\n",
       "      <td>567</td>\n",
       "      <td>4</td>\n",
       "      <td>2000-11-30 23:51:54</td>\n",
       "    </tr>\n",
       "    <tr>\n",
       "      <th>100415</th>\n",
       "      <td>0</td>\n",
       "      <td>3005</td>\n",
       "      <td>1</td>\n",
       "      <td>2000-11-30 23:58:06</td>\n",
       "    </tr>\n",
       "    <tr>\n",
       "      <th>100416</th>\n",
       "      <td>0</td>\n",
       "      <td>3006</td>\n",
       "      <td>4</td>\n",
       "      <td>2000-11-30 23:57:50</td>\n",
       "    </tr>\n",
       "    <tr>\n",
       "      <th>...</th>\n",
       "      <td>...</td>\n",
       "      <td>...</td>\n",
       "      <td>...</td>\n",
       "      <td>...</td>\n",
       "    </tr>\n",
       "    <tr>\n",
       "      <th>1000204</th>\n",
       "      <td>5364</td>\n",
       "      <td>814</td>\n",
       "      <td>1</td>\n",
       "      <td>2000-04-26 02:35:41</td>\n",
       "    </tr>\n",
       "    <tr>\n",
       "      <th>1000205</th>\n",
       "      <td>5364</td>\n",
       "      <td>817</td>\n",
       "      <td>5</td>\n",
       "      <td>2000-04-25 23:21:27</td>\n",
       "    </tr>\n",
       "    <tr>\n",
       "      <th>1000206</th>\n",
       "      <td>5364</td>\n",
       "      <td>478</td>\n",
       "      <td>5</td>\n",
       "      <td>2000-04-25 23:19:06</td>\n",
       "    </tr>\n",
       "    <tr>\n",
       "      <th>1000207</th>\n",
       "      <td>5364</td>\n",
       "      <td>819</td>\n",
       "      <td>4</td>\n",
       "      <td>2000-04-26 02:20:48</td>\n",
       "    </tr>\n",
       "    <tr>\n",
       "      <th>1000208</th>\n",
       "      <td>5364</td>\n",
       "      <td>820</td>\n",
       "      <td>4</td>\n",
       "      <td>2000-04-26 02:19:29</td>\n",
       "    </tr>\n",
       "  </tbody>\n",
       "</table>\n",
       "<p>787420 rows × 4 columns</p>\n",
       "</div>"
      ],
      "text/plain": [
       "         user_id  item_id  rating            datetime\n",
       "100409         0     2994       3 2000-11-30 23:49:23\n",
       "100411         0      929       4 2000-11-30 23:52:33\n",
       "100412         0      567       4 2000-11-30 23:51:54\n",
       "100415         0     3005       1 2000-11-30 23:58:06\n",
       "100416         0     3006       4 2000-11-30 23:57:50\n",
       "...          ...      ...     ...                 ...\n",
       "1000204     5364      814       1 2000-04-26 02:35:41\n",
       "1000205     5364      817       5 2000-04-25 23:21:27\n",
       "1000206     5364      478       5 2000-04-25 23:19:06\n",
       "1000207     5364      819       4 2000-04-26 02:20:48\n",
       "1000208     5364      820       4 2000-04-26 02:19:29\n",
       "\n",
       "[787420 rows x 4 columns]"
      ]
     },
     "execution_count": 13,
     "metadata": {},
     "output_type": "execute_result"
    }
   ],
   "source": [
    "df_train"
   ]
  },
  {
   "cell_type": "markdown",
   "id": "3d356df8-9157-4752-b30d-dc80aba5e53c",
   "metadata": {},
   "source": [
    "##### Задание 1. Напишем функцию, которая превратит датафрейм в матрицу интеракций. В функции df_to_matrix реализуйте функцию, которая принимает датафрейм и возвращает np.array матрицу интеракций. В функции df_to_coo реализуйте функцию, которая принимает датафрейм и возвращает разреженную матрицу интеракций в coo_array формате"
   ]
  },
  {
   "cell_type": "code",
   "execution_count": 15,
   "id": "d38a7bb7-7f2d-4957-8dac-6397af9b1645",
   "metadata": {},
   "outputs": [],
   "source": [
    "def df_to_matrix(df: pd.DataFrame) -> np.ndarray:\n",
    "    result = df.pivot(columns='item_id', index='user_id', values='rating').fillna(0).to_numpy()\n",
    "    return result  #shape ~ [n_users, n_items]"
   ]
  },
  {
   "cell_type": "code",
   "execution_count": 16,
   "id": "55362cbb-5e2d-455b-afd1-8507f1dd51ba",
   "metadata": {
    "scrolled": true
   },
   "outputs": [
    {
     "data": {
      "text/plain": [
       "(5365, 3010)"
      ]
     },
     "execution_count": 16,
     "metadata": {},
     "output_type": "execute_result"
    }
   ],
   "source": [
    "interactions = df_to_matrix(df_train)\n",
    "interactions.shape"
   ]
  },
  {
   "cell_type": "code",
   "execution_count": 17,
   "id": "794b646d-a560-42dd-a466-87cad2589271",
   "metadata": {},
   "outputs": [],
   "source": [
    "def df_to_coo(df: pd.DataFrame) -> coo_array:\n",
    "    data = df['rating']\n",
    "    row = df['user_id']\n",
    "    col = df['item_id']\n",
    "\n",
    "    num_users = df['user_id'].max() + 1\n",
    "    num_items = df['item_id'].max() + 1\n",
    "\n",
    "    result = coo_array((data, (row, col)), shape=(num_users, num_items))\n",
    "\n",
    "    return result  # coo_array"
   ]
  },
  {
   "cell_type": "code",
   "execution_count": 18,
   "id": "30f9c218-0419-41b2-a112-c2214fad1d99",
   "metadata": {},
   "outputs": [
    {
     "data": {
      "text/plain": [
       "(5365, 3010)"
      ]
     },
     "execution_count": 18,
     "metadata": {},
     "output_type": "execute_result"
    }
   ],
   "source": [
    "coo_interactions = df_to_coo(df_train)\n",
    "coo_interactions.shape"
   ]
  },
  {
   "cell_type": "code",
   "execution_count": 19,
   "id": "96b57a7a-0551-4f75-8047-fb9904ac93df",
   "metadata": {},
   "outputs": [],
   "source": [
    "assert (interactions != 0).sum() == df_train.shape[0]\n",
    "assert interactions[0, 2994] == 3\n",
    "assert interactions[2369, 1203] == 5\n",
    "assert interactions[1557, 459] == 3\n",
    "assert np.allclose(coo_interactions.toarray(), interactions)"
   ]
  },
  {
   "cell_type": "markdown",
   "id": "93b3862a-e62a-4ebe-a70c-29102e9f99fd",
   "metadata": {},
   "source": [
    "##### Задание 2.1. Рассмотрим [SVD](https://en.wikipedia.org/wiki/Singular_value_decomposition). Возьмите готовую реализуцию алгоритма из numpy.linalg или из scipy.linalg и примените алгоритм к матрицам интеракций, полученным в первом задании. Для работы со sparse матрицей обычная реализация svd не подойдет и нужно будет воспользоваться scipy.sparse.linalg.svds. Вам нужно разложить матрицу интеракций на 3 матрицы U, S, V, а затем перемножить их и восстановить изначальную матрицу. При полном разложении исходная матрица должна восстанавливаться максимально хорошо"
   ]
  },
  {
   "cell_type": "code",
   "execution_count": 21,
   "id": "eead134a-9aac-4027-b0b8-592de614c3d0",
   "metadata": {},
   "outputs": [],
   "source": [
    "def make_svd(interactions: Union[np.ndarray, coo_array], n_singular_values: int = -1):\n",
    "    # функция должна работать и для полной матрицы и для sparse матрицы(вам поможет isinstance).\n",
    "    # если n_singular_values = -1, то берем все сингулярные числа для полной матрицы\n",
    "    # и все кроме одного сингулярного числа для coo-матрицы(иначе scipy.sparse.linalg.svds не будет работать)\n",
    "    if isinstance(interactions, np.ndarray):\n",
    "        U, s, V = linalg.svd(interactions, full_matrices=False)\n",
    "        if n_singular_values != -1:\n",
    "            U = U[:, :n_singular_values]\n",
    "            s = s[:n_singular_values]\n",
    "            V = V[:n_singular_values, :]\n",
    "        S = np.diag(s)\n",
    "    elif isinstance(interactions, coo_array):\n",
    "        interactions = interactions.astype(np.float64)\n",
    "        if n_singular_values == -1:\n",
    "            k = min(interactions.shape[0], interactions.shape[1]) - 1\n",
    "        else:\n",
    "            k = n_singular_values\n",
    "        U, s, V = svds(interactions, k=k)\n",
    "        idx = np.argsort(s)[::-1]\n",
    "        s = s[idx]\n",
    "        U = U[:, idx]\n",
    "        V = V[idx, :]\n",
    "        S = np.diag(s)\n",
    "\n",
    "    return U, S, V"
   ]
  },
  {
   "cell_type": "code",
   "execution_count": 22,
   "id": "5c5fecd4-4739-4f6b-9c9c-44bde8b66a34",
   "metadata": {},
   "outputs": [],
   "source": [
    "U, S, V = make_svd(interactions)\n",
    "assert np.allclose(U @ S @ V, interactions)"
   ]
  },
  {
   "cell_type": "code",
   "execution_count": 23,
   "id": "c5a5f59e-3832-4a7d-95b4-856531582bbd",
   "metadata": {},
   "outputs": [],
   "source": [
    "U1, S1, V1 = make_svd(interactions, 10)\n",
    "U, S, V = make_svd(coo_interactions, 10)\n",
    "assert np.allclose(U1 @ S1 @ V1, U @ S @ V)"
   ]
  },
  {
   "cell_type": "markdown",
   "id": "9443daa6-e9f1-414a-8107-5a3016452929",
   "metadata": {},
   "source": [
    "##### Задание 2.2. Теперь попробуем сделать рекомендации с помощью SVD. Мы научились восстанавливать исходную матрицу с помощью разложения, теперь же мы хотим порекомендовать пользователю айтемы, которые будут для него максимально релевантны(в восстановленной матрице у них будет самый высокий скор). Для каждого пользователя нужно будет найти индексы айтемов, которые имеют максимальный скор. При этом стоит обратить внимание, что мы не хотим рекомендовать пользователю айтемы, с которыми он уже взаимодействовал"
   ]
  },
  {
   "cell_type": "code",
   "execution_count": 25,
   "id": "787da18f-48d0-4dfa-b18f-b7e97cc98a4f",
   "metadata": {},
   "outputs": [],
   "source": [
    "def make_svd_recommendations(interactions: Union[np.ndarray, coo_array], n_singular_values: int = -1, top_k: int = 100):\n",
    "    # Возвращает матрицу вида n_users, top_k, то есть для каждого пользователя возвращаем индексы \n",
    "    # top_k самых релевантный айтемов среди тех с которыми он еще не взаимодействовал\n",
    "\n",
    "    U, S, V = make_svd(interactions, n_singular_values)\n",
    "    if isinstance(interactions, coo_array):\n",
    "        interactions = interactions.toarray()\n",
    "\n",
    "    recommendations_mf = U @ S @ V\n",
    "    recommendations = np.zeros((interactions.shape[0], top_k), dtype=np.int32)\n",
    "    for i, (row_int, row_rec) in enumerate(zip(interactions, recommendations_mf)):\n",
    "        sorted_indices = np.argsort(row_rec)[::-1]\n",
    "        filtered_indices = [idx for idx in sorted_indices if row_int[idx] == 0]\n",
    "        filtered_indices = filtered_indices[:top_k]\n",
    "        recommendations[i] = filtered_indices\n",
    "\n",
    "    return recommendations  #shape ~ [n_users, top_k]"
   ]
  },
  {
   "cell_type": "code",
   "execution_count": 26,
   "id": "ec72f3dd-c8f2-4434-b84e-ef016c4773a1",
   "metadata": {},
   "outputs": [],
   "source": [
    "recs = make_svd_recommendations(interactions, -1, 100)\n",
    "assert recs.shape == (interactions.shape[0], 100)"
   ]
  },
  {
   "cell_type": "markdown",
   "id": "f5d0b788-855a-4fd9-8cbb-38c0dd289ef5",
   "metadata": {},
   "source": [
    "##### Задание 2.3. Теперь давайте посмотрим как будет зависеть качетво рекомендаций, от количества сингулярных чисел, которые мы возьмем в SVD разложении. Переберите n_singular_values из списка [1, 10, 50, 200, 1000] и посмотрите как будет изменяться метрика NDCG на тестовом датасете для таких рекомендаций и как будет меняться время вычисления. Для каждого графики зависимости метрики NDCG от n_singular_values и времени работы алгоритма от n_singular_values(Время работы будет меняться только для sparse-матрицы, стоит запускать алгоритм именно для нее)"
   ]
  },
  {
   "cell_type": "code",
   "execution_count": 28,
   "id": "06f931fd-0eb0-4965-9e02-e005ed545c71",
   "metadata": {},
   "outputs": [],
   "source": [
    "def compute_ndcg(recommendations, test_interactions, top_k=100):\n",
    "    ndcg_values = []\n",
    "    if isinstance(test_interactions, coo_array):\n",
    "        test_interactions = test_interactions.toarray()\n",
    "    for i in range(test_interactions.shape[0]):\n",
    "        gt = np.zeros(test_interactions.shape[1])\n",
    "        # nonzero_indices = np.nonzero(test_interactions[i])[0]\n",
    "        # if len(nonzero_indices) == 0:\n",
    "        #     ndcg_values.append(0.0)\n",
    "\n",
    "        gt[test_interactions[i].nonzero()] = 1\n",
    "        pred = np.zeros(test_interactions.shape[1])\n",
    "        pred[recommendations[i]] = 1\n",
    "        ndcg = ndcg_score([gt], [pred], k=top_k)\n",
    "        ndcg_values.append(ndcg)\n",
    "    return np.mean(ndcg_values)\n",
    "\n",
    "\n",
    "def plot_graphs(interactions: Union[np.ndarray, coo_array], test_interactions: Union[np.ndarray, coo_array],\n",
    "                top_k: int = 100):\n",
    "    n_singular_values = [1, 10, 50, 200, 1000]\n",
    "    ndcg_scores = []\n",
    "    times = []\n",
    "    for singular_values in n_singular_values:\n",
    "        start_time = time.time()\n",
    "        recommendations = make_svd_recommendations(interactions, n_singular_values=singular_values, top_k=top_k)\n",
    "        end_time = time.time() - start_time\n",
    "        times.append(end_time)\n",
    "\n",
    "        ndcg = compute_ndcg(recommendations, test_interactions, top_k)\n",
    "        ndcg_scores.append(ndcg)\n",
    "        print(f'n_singular_values={singular_values}, NDCG={ndcg:.4f}, time={end_time:.2f} sec')\n",
    "\n",
    "    plt.figure(figsize=(10, 5))\n",
    "    plt.plot(n_singular_values, ndcg_scores, label='NDCG')\n",
    "    plt.xlabel('Количество сингулярных чисел')\n",
    "    plt.ylabel(f'NDCG@{top_k}')\n",
    "    plt.title('Зависимость NDCG от количества сингулярных чисел')\n",
    "    plt.grid()\n",
    "    plt.legend()\n",
    "    plt.show()\n",
    "\n",
    "    plt.figure(figsize=(10, 5))\n",
    "    plt.plot(n_singular_values, times, label='Время работы')\n",
    "    plt.xlabel('Количество сингулярных чисел')\n",
    "    plt.ylabel('Время сек')\n",
    "    plt.title('Зависимость времени работы от количества сингулярных чисел')\n",
    "    plt.grid()\n",
    "    plt.legend()\n",
    "    plt.show()"
   ]
  },
  {
   "cell_type": "code",
   "execution_count": 29,
   "id": "ee22fe02-b1c2-4fb5-a7b1-0525356fe9f0",
   "metadata": {},
   "outputs": [
    {
     "name": "stdout",
     "output_type": "stream",
     "text": [
      "n_singular_values=1, NDCG=0.0458, time=2.49 sec\n",
      "n_singular_values=10, NDCG=0.0514, time=3.03 sec\n",
      "n_singular_values=50, NDCG=0.0473, time=3.91 sec\n",
      "n_singular_values=200, NDCG=0.0370, time=7.35 sec\n",
      "n_singular_values=1000, NDCG=0.0139, time=32.41 sec\n"
     ]
    },
    {
     "data": {
      "image/png": "[encoded data removed]",
      "text/plain": [
       "<Figure size 1000x500 with 1 Axes>"
      ]
     },
     "metadata": {},
     "output_type": "display_data"
    },
    {
     "data": {
      "image/png": "[encoded data removed]",
      "text/plain": [
       "<Figure size 1000x500 with 1 Axes>"
      ]
     },
     "metadata": {},
     "output_type": "display_data"
    }
   ],
   "source": [
    "coo_interactions = df_to_coo(df_train)\n",
    "test_interactions_coo = df_to_coo(df_test)\n",
    "\n",
    "plot_graphs(coo_interactions, test_interactions_coo)"
   ]
  },
  {
   "cell_type": "markdown",
   "id": "a8612d96-c694-42d6-9525-58808f642577",
   "metadata": {},
   "source": [
    "##### Задание 3.1. Перейдем к [ALS](http://yifanhu.net/PUB/cf.pdf). Возьмем реализацию iALS из библиотеки [implicit](https://benfred.github.io/implicit/api/models/cpu/als.html). Обучите ALS на нашем датасете, сделайте top_k рекомендации для юзеров из тестового датасета, и сравните метрики ALS с метриками, которые получились в SVD. Попробуйте перебрать гиперпараметры и найдите оптимальное число факторов, коэффициент alpha и коэффициент регуляризации."
   ]
  },
  {
   "cell_type": "code",
   "execution_count": 31,
   "id": "b5fb16e9-49d1-4d7e-a384-ccbdad4f1cdf",
   "metadata": {},
   "outputs": [],
   "source": [
    "def make_als_recommendations(\n",
    "        interactions: Union[np.ndarray, coo_array],\n",
    "        top_k: int = 100,\n",
    "        n_factors: int = 100,\n",
    "        alpha: float = 1.0,\n",
    "        regularization: float = 0.01,\n",
    "        iterations=15,\n",
    "        random_state=42\n",
    "):\n",
    "    if isinstance(interactions, np.ndarray):\n",
    "        interactions = csr_matrix(interactions)\n",
    "    elif isinstance(interactions, coo_array):\n",
    "        interactions = interactions.tocsr()\n",
    "\n",
    "    als = AlternatingLeastSquares(factors=n_factors, regularization=regularization, alpha=alpha, iterations=iterations,\n",
    "                                  random_state=42)\n",
    "    als.fit(interactions)\n",
    "\n",
    "    n_users = interactions.shape[0]\n",
    "    recommendations = np.zeros((n_users, top_k), dtype=np.int32)\n",
    "    for user in range(n_users):\n",
    "        user_items = interactions[user]\n",
    "        recs = als.recommend(userid=user, user_items=user_items, N=top_k, filter_already_liked_items=True)\n",
    "        recommendations[user] = recs[0]\n",
    "    return recommendations, als"
   ]
  },
  {
   "cell_type": "code",
   "execution_count": 32,
   "id": "b5573d01-8512-450f-9260-03928ee9b367",
   "metadata": {},
   "outputs": [
    {
     "name": "stderr",
     "output_type": "stream",
     "text": [
      "/opt/anaconda3/lib/python3.12/site-packages/implicit/cpu/als.py:95: RuntimeWarning: OpenBLAS is configured to use 8 threads. It is highly recommended to disable its internal threadpool by setting the environment variable 'OPENBLAS_NUM_THREADS=1' or by calling 'threadpoolctl.threadpool_limits(1, \"blas\")'. Having OpenBLAS use a threadpool can lead to severe performance issues here.\n",
      "  check_blas_config()\n"
     ]
    },
    {
     "data": {
      "application/vnd.jupyter.widget-view+json": {
       "model_id": "b984475cd585424d8c62c9d811b3b042",
       "version_major": 2,
       "version_minor": 0
      },
      "text/plain": [
       "  0%|          | 0/15 [00:00<?, ?it/s]"
      ]
     },
     "metadata": {},
     "output_type": "display_data"
    }
   ],
   "source": [
    "recs, als = make_als_recommendations(interactions)\n",
    "assert recs.shape == (interactions.shape[0], 100)"
   ]
  },
  {
   "cell_type": "code",
   "execution_count": 33,
   "id": "4ab93b2c-318e-4f78-be52-aa8ba7af70c8",
   "metadata": {},
   "outputs": [
    {
     "name": "stdout",
     "output_type": "stream",
     "text": [
      "NDCG для iALS: 0.043154068770066674\n"
     ]
    }
   ],
   "source": [
    "print('NDCG для iALS:', compute_ndcg(recs, test_interactions_coo, top_k=100))\n"
   ]
  },
  {
   "cell_type": "markdown",
   "id": "81f3b1cc-760b-4d6a-ab8a-aca57b7b6dfe",
   "metadata": {},
   "source": [
    "##### Задание 3.2. Сделайте объяснение рекомендаций для нескольких юзеров(als.explain). Воспользуйтесь файлом movies.dat чтобы перейти от индексов фильмов к их названием"
   ]
  },
  {
   "cell_type": "code",
   "execution_count": 35,
   "id": "ddd9a956-d2f5-4560-8d0c-c72164ebdfa8",
   "metadata": {},
   "outputs": [],
   "source": [
    "movies_df = pd.read_csv(\"ml-1m/movies.dat\", sep=\"::\", engine=\"python\", names=[\"movie_id\", \"title\", \"genres\"],\n",
    "                        encoding='ISO-8859-1')\n",
    "valid_ids = set(item_le.classes_)\n",
    "movies_df = movies_df[movies_df['movie_id'].isin(valid_ids)].copy()\n",
    "movies_df['encoded_id'] = item_le.transform(movies_df['movie_id'])\n"
   ]
  },
  {
   "cell_type": "code",
   "execution_count": 36,
   "id": "a6c1b037-b647-4474-9d17-47abc431c66c",
   "metadata": {},
   "outputs": [],
   "source": [
    "def explain_recommendations_for_users(\n",
    "        als_model: AlternatingLeastSquares,\n",
    "        interactions: csr_matrix,\n",
    "        user_ids: list[int],\n",
    "        id_to_title: dict[int, str],\n",
    "        top_k: int = 5,\n",
    "        n_contributors: int = 3\n",
    "):\n",
    "    results = {}\n",
    "\n",
    "    for user_id in user_ids:\n",
    "        user_items = csr_matrix(interactions[[user_id]])\n",
    "        recs = als_model.recommend(\n",
    "            userid=user_id,\n",
    "            user_items=user_items,\n",
    "            N=top_k,\n",
    "            filter_already_liked_items=True\n",
    "        )\n",
    "        recommended_items, scores = recs\n",
    "        explanations = []\n",
    "\n",
    "        for idx, item_id in enumerate(recommended_items):\n",
    "            total_score, top_contributions, user_weights = als_model.explain(user_id, interactions, item_id,\n",
    "                                                                             N=n_contributors)\n",
    "            top_contributors_named = [\n",
    "                (id_to_title.get(src_item_id), w)\n",
    "                for (src_item_id, w) in top_contributions\n",
    "            ]\n",
    "            explanations.append({\n",
    "                'rank': idx + 1,\n",
    "                'recommended_item_id': item_id,\n",
    "                'recommended_item_title': id_to_title.get(item_id),\n",
    "                'overall_score': total_score,\n",
    "                'top_contributors': top_contributors_named\n",
    "            })\n",
    "\n",
    "        results[user_id] = explanations\n",
    "    return results"
   ]
  },
  {
   "cell_type": "code",
   "execution_count": 37,
   "id": "2137d317-cca1-4825-a9d7-5c34b4007187",
   "metadata": {},
   "outputs": [
    {
     "name": "stdout",
     "output_type": "stream",
     "text": [
      "Объяснение рекомендаций для пользователя 23:\n",
      "\n",
      "   Ранк 1 -> 'Witness (1985)' (item_id=1243)\n",
      "   ALS score = 0.7871\n",
      "   Наибольший вклад внесли фильмы:\n",
      "      'When Harry Met Sally... (1989)': 0.0925\n",
      "      'Room with a View, A (1986)': 0.0826\n",
      "      'Gandhi (1982)': 0.0781\n",
      "\n",
      "   Ранк 2 -> 'Die Hard (1988)' (item_id=775)\n",
      "   ALS score = 0.7637\n",
      "   Наибольший вклад внесли фильмы:\n",
      "      'Indiana Jones and the Last Crusade (1989)': 0.1605\n",
      "      'Terminator, The (1984)': 0.1458\n",
      "      'Raiders of the Lost Ark (1981)': 0.1023\n",
      "\n",
      "   Ранк 3 -> 'Raising Arizona (1987)' (item_id=1053)\n",
      "   ALS score = 0.7597\n",
      "   Наибольший вклад внесли фильмы:\n",
      "      'Fish Called Wanda, A (1988)': 0.1391\n",
      "      'This Is Spinal Tap (1984)': 0.1080\n",
      "      'Airplane! (1980)': 0.0954\n",
      "\n",
      "   Ранк 4 -> 'Back to the Future (1985)' (item_id=947)\n",
      "   ALS score = 0.7496\n",
      "   Наибольший вклад внесли фильмы:\n",
      "      'Blade Runner (1982)': 0.1218\n",
      "      'When Harry Met Sally... (1989)': 0.1182\n",
      "      'Airplane! (1980)': 0.1171\n",
      "\n",
      "   Ранк 5 -> 'Star Wars: Episode IV - A New Hope (1977)' (item_id=211)\n",
      "   ALS score = 0.7013\n",
      "   Наибольший вклад внесли фильмы:\n",
      "      'Star Wars: Episode V - The Empire Strikes Back (1980)': 0.2407\n",
      "      'Raiders of the Lost Ark (1981)': 0.1885\n",
      "      'Star Wars: Episode VI - Return of the Jedi (1983)': 0.1640\n",
      "\n",
      "--------------------------------------------------\n",
      "\n",
      "Объяснение рекомендаций для пользователя 3000:\n",
      "\n",
      "   Ранк 1 -> 'Mad Max (1979)' (item_id=2806)\n",
      "   ALS score = 0.9029\n",
      "   Наибольший вклад внесли фильмы:\n",
      "      'Mad Max 2 (a.k.a. The Road Warrior) (1981)': 0.1621\n",
      "      'Mad Max Beyond Thunderdome (1985)': 0.0816\n",
      "      'Starman (1984)': 0.0776\n",
      "\n",
      "   Ранк 2 -> 'E.T. the Extra-Terrestrial (1982)' (item_id=820)\n",
      "   ALS score = 0.8993\n",
      "   Наибольший вклад внесли фильмы:\n",
      "      'Close Encounters of the Third Kind (1977)': 0.1489\n",
      "      '2001: A Space Odyssey (1968)': 0.1252\n",
      "      'Star Wars: Episode V - The Empire Strikes Back (1980)': 0.0889\n",
      "\n",
      "   Ранк 3 -> 'Terminator 2: Judgment Day (1991)' (item_id=496)\n",
      "   ALS score = 0.8952\n",
      "   Наибольший вклад внесли фильмы:\n",
      "      'Matrix, The (1999)': 0.1979\n",
      "      'Men in Black (1997)': 0.1267\n",
      "      'Total Recall (1990)': 0.1149\n",
      "\n",
      "   Ранк 4 -> 'Sleeper (1973)' (item_id=801)\n",
      "   ALS score = 0.8459\n",
      "   Наибольший вклад внесли фильмы:\n",
      "      'Annie Hall (1977)': 0.0985\n",
      "      'Producers, The (1968)': 0.0594\n",
      "      'Day the Earth Stood Still, The (1951)': 0.0571\n",
      "\n",
      "   Ранк 5 -> 'Gladiator (2000)' (item_id=2714)\n",
      "   ALS score = 0.7990\n",
      "   Наибольший вклад внесли фильмы:\n",
      "      'Mission: Impossible 2 (2000)': 0.2096\n",
      "      'X-Men (2000)': 0.1055\n",
      "      'Sixth Sense, The (1999)': 0.0826\n",
      "\n",
      "--------------------------------------------------\n",
      "\n",
      "Объяснение рекомендаций для пользователя 1002:\n",
      "\n",
      "   Ранк 1 -> 'Full Monty, The (1997)' (item_id=1218)\n",
      "   ALS score = 0.6582\n",
      "   Наибольший вклад внесли фильмы:\n",
      "      'Pleasantville (1998)': 0.1003\n",
      "      'Four Weddings and a Funeral (1994)': 0.0744\n",
      "      'Shakespeare in Love (1998)': 0.0683\n",
      "\n",
      "   Ранк 2 -> 'Election (1999)' (item_id=1961)\n",
      "   ALS score = 0.6269\n",
      "   Наибольший вклад внесли фильмы:\n",
      "      'Shakespeare in Love (1998)': 0.1656\n",
      "      'American Beauty (1999)': 0.1075\n",
      "      'Pleasantville (1998)': 0.0720\n",
      "\n",
      "   Ранк 3 -> 'Toy Story 2 (1999)' (item_id=2374)\n",
      "   ALS score = 0.5397\n",
      "   Наибольший вклад внесли фильмы:\n",
      "      'Toy Story (1995)': 0.2852\n",
      "      'Babe (1995)': 0.1399\n",
      "      'Shakespeare in Love (1998)': 0.1125\n",
      "\n",
      "   Ранк 4 -> 'Being John Malkovich (1999)' (item_id=2278)\n",
      "   ALS score = 0.5409\n",
      "   Наибольший вклад внесли фильмы:\n",
      "      'American Beauty (1999)': 0.3444\n",
      "      'Shakespeare in Love (1998)': 0.1129\n",
      "      'Pleasantville (1998)': 0.0524\n",
      "\n",
      "   Ранк 5 -> \"There's Something About Mary (1998)\" (item_id=1396)\n",
      "   ALS score = 0.4715\n",
      "   Наибольший вклад внесли фильмы:\n",
      "      'Pleasantville (1998)': 0.1019\n",
      "      'Shakespeare in Love (1998)': 0.0752\n",
      "      'Toy Story (1995)': 0.0640\n",
      "\n",
      "--------------------------------------------------\n",
      "\n"
     ]
    }
   ],
   "source": [
    "id_to_title = dict(zip(movies_df['encoded_id'], movies_df['title']))\n",
    "interactions_csr = csr_matrix(coo_interactions)\n",
    "users_to_explain = [23, 3000, 1002]\n",
    "\n",
    "explanations = explain_recommendations_for_users(\n",
    "    als,\n",
    "    interactions_csr,\n",
    "    users_to_explain,\n",
    "    id_to_title,\n",
    "    top_k=5,\n",
    "    n_contributors=3\n",
    ")\n",
    "\n",
    "for user_id, user_expls in explanations.items():\n",
    "    print(f'Объяснение рекомендаций для пользователя {user_id}:\\n')\n",
    "    for e in user_expls:\n",
    "        print(f'   Ранк {e['rank']} -> {e['recommended_item_title']!r} (item_id={e['recommended_item_id']})')\n",
    "        print(f'   ALS score = {e['overall_score']:.4f}')\n",
    "        print('   Наибольший вклад внесли фильмы:')\n",
    "        for movie_title, weight in e['top_contributors']:\n",
    "            print(f\"      {movie_title!r}: {weight:.4f}\")\n",
    "        print()\n",
    "    print(\"--------------------------------------------------\\n\")"
   ]
  },
  {
   "cell_type": "markdown",
   "id": "de2f496a-3a76-4cfc-ba11-e340965c9a9c",
   "metadata": {},
   "source": [
    "Видно, что рекомендации вполне логичные, например, пользователю 1 рекомендуется фильм Star Wars: Episode IV — A New Hope на основе других фильмов Star Wars"
   ]
  },
  {
   "cell_type": "markdown",
   "id": "d7d7ea0c-8288-45f5-83d4-9761a8952669",
   "metadata": {},
   "source": [
    "##### Задание 4. До этого мы работали с рейтингами, но как обсуждалось на лекции, implicit ALS отлично работает и с implicit фидбэком. Давайте попробуем преобразовать наш датасет(трейн и тест) следующим образом\n",
    "\n",
    "1. Бинаризуем все рейтинги(заменим любую интеракцию пользователя на 1)\n",
    "2. Заменим на 1 только рейтинги 4 и 5, а рейтинг ниже 4 заменим на 0\n",
    "3. Заменим на 1 только рейтинги 4 и 5, а рейтинг ниже 4 заменим на -1\n",
    "4. Заменим на 1 только рейтинги 4 и 5, а рейтинг ниже 4 заменим на -1 и добавим сглаживание по времени. То есть чем дальше была интеракция от максимальной даты трейна, тем с меньшим весом мы будем ее учитывать(например можно интеракции за последний месяц брать в исходном виде, и с каждым месяцем в прошлое умножать их на какой-нибудь коэффициент меньший 1). Таким образом более старые интеракции пользователя будут вносить меньший вклад в его интересы\n",
    "5. Придумайте свой вариант(опционально)\n",
    "\n",
    "Для каждой полученной матрицы обучите iALS и SVD и сравните их результаты между собой(преобразовывать нужно только обучающую выборку, тестовую оставляем неизменной)"
   ]
  },
  {
   "cell_type": "code",
   "execution_count": 40,
   "id": "62627795-033f-4549-a2c5-ecba11b392ee",
   "metadata": {},
   "outputs": [
    {
     "data": {
      "application/vnd.jupyter.widget-view+json": {
       "model_id": "c30ebd8eb6f14a9d8321d3d6e2e50c65",
       "version_major": 2,
       "version_minor": 0
      },
      "text/plain": [
       "  0%|          | 0/15 [00:00<?, ?it/s]"
      ]
     },
     "metadata": {},
     "output_type": "display_data"
    },
    {
     "data": {
      "application/vnd.jupyter.widget-view+json": {
       "model_id": "455db5781d304ced84260510b587c659",
       "version_major": 2,
       "version_minor": 0
      },
      "text/plain": [
       "  0%|          | 0/15 [00:00<?, ?it/s]"
      ]
     },
     "metadata": {},
     "output_type": "display_data"
    },
    {
     "data": {
      "application/vnd.jupyter.widget-view+json": {
       "model_id": "48723a9078d542acb1dcb64645d85c9c",
       "version_major": 2,
       "version_minor": 0
      },
      "text/plain": [
       "  0%|          | 0/15 [00:00<?, ?it/s]"
      ]
     },
     "metadata": {},
     "output_type": "display_data"
    },
    {
     "data": {
      "application/vnd.jupyter.widget-view+json": {
       "model_id": "fe7a925765b847af8970c6296b7a3d67",
       "version_major": 2,
       "version_minor": 0
      },
      "text/plain": [
       "  0%|          | 0/15 [00:00<?, ?it/s]"
      ]
     },
     "metadata": {},
     "output_type": "display_data"
    },
    {
     "data": {
      "application/vnd.jupyter.widget-view+json": {
       "model_id": "74f08b381e3e494085c1272e6f061e1d",
       "version_major": 2,
       "version_minor": 0
      },
      "text/plain": [
       "  0%|          | 0/15 [00:00<?, ?it/s]"
      ]
     },
     "metadata": {},
     "output_type": "display_data"
    },
    {
     "data": {
      "text/html": [
       "<div>\n",
       "<style scoped>\n",
       "    .dataframe tbody tr th:only-of-type {\n",
       "        vertical-align: middle;\n",
       "    }\n",
       "\n",
       "    .dataframe tbody tr th {\n",
       "        vertical-align: top;\n",
       "    }\n",
       "\n",
       "    .dataframe thead th {\n",
       "        text-align: right;\n",
       "    }\n",
       "</style>\n",
       "<table border=\"1\" class=\"dataframe\">\n",
       "  <thead>\n",
       "    <tr style=\"text-align: right;\">\n",
       "      <th></th>\n",
       "      <th>variant</th>\n",
       "      <th>ALS_ndcg</th>\n",
       "      <th>SVD_ndcg</th>\n",
       "    </tr>\n",
       "  </thead>\n",
       "  <tbody>\n",
       "    <tr>\n",
       "      <th>0</th>\n",
       "      <td>0</td>\n",
       "      <td>0.043154</td>\n",
       "      <td>0.051434</td>\n",
       "    </tr>\n",
       "    <tr>\n",
       "      <th>1</th>\n",
       "      <td>1</td>\n",
       "      <td>0.042628</td>\n",
       "      <td>0.049496</td>\n",
       "    </tr>\n",
       "    <tr>\n",
       "      <th>2</th>\n",
       "      <td>2</td>\n",
       "      <td>0.037675</td>\n",
       "      <td>0.045287</td>\n",
       "    </tr>\n",
       "    <tr>\n",
       "      <th>3</th>\n",
       "      <td>3</td>\n",
       "      <td>0.043250</td>\n",
       "      <td>0.047361</td>\n",
       "    </tr>\n",
       "    <tr>\n",
       "      <th>4</th>\n",
       "      <td>4</td>\n",
       "      <td>0.042961</td>\n",
       "      <td>0.048113</td>\n",
       "    </tr>\n",
       "  </tbody>\n",
       "</table>\n",
       "</div>"
      ],
      "text/plain": [
       "   variant  ALS_ndcg  SVD_ndcg\n",
       "0        0  0.043154  0.051434\n",
       "1        1  0.042628  0.049496\n",
       "2        2  0.037675  0.045287\n",
       "3        3  0.043250  0.047361\n",
       "4        4  0.042961  0.048113"
      ]
     },
     "metadata": {},
     "output_type": "display_data"
    }
   ],
   "source": [
    "def transoform_train(df_train: pd.DataFrame, variant: int, max_date) -> pd.DataFrame:\n",
    "    df_transformed = df_train.copy()\n",
    "\n",
    "    if variant == 0:\n",
    "        return df_transformed\n",
    "    elif variant == 1:\n",
    "        df_transformed['rating'] = 1\n",
    "    elif variant == 2:\n",
    "        df_transformed['rating'] = df_transformed['rating'].apply(lambda x: 1 if x >= 4 else 0)\n",
    "    elif variant == 3:\n",
    "        df_transformed['rating'] = df_transformed['rating'].apply(lambda x: 1 if x >= 4 else -1)\n",
    "    elif variant == 4:\n",
    "        def month_diff(d1, d2):\n",
    "            return (d2.year - d1.year) * 12 + (d2.month - d1.month)\n",
    "\n",
    "        def transform_row(row):\n",
    "            base_rating = 1 if row['rating'] >= 4 else -1\n",
    "            m_diff = month_diff(row['datetime'], max_date)\n",
    "            return base_rating * (0.75 ** abs(m_diff))\n",
    "\n",
    "        df_transformed['rating'] = df_transformed.apply(transform_row, axis=1)\n",
    "    return df_transformed\n",
    "\n",
    "\n",
    "results = []\n",
    "max_date_train = df_train['datetime'].max()\n",
    "\n",
    "for variant in [0, 1, 2, 3, 4]:\n",
    "    df_train_transformed = transoform_train(df_train, variant, max_date=max_date_train)\n",
    "    train_df = df_to_matrix(df_train_transformed)\n",
    "    test_df = df_to_coo(df_test)\n",
    "\n",
    "    als_recs, _ = make_als_recommendations(interactions=train_df)\n",
    "    als_ndcg = compute_ndcg(als_recs, test_df, top_k=100)\n",
    "\n",
    "    svd_recs = make_svd_recommendations(train_df, n_singular_values=10, top_k=100)\n",
    "    svd_ndcg = compute_ndcg(svd_recs, test_df, top_k=100)\n",
    "\n",
    "    results.append({\n",
    "        'variant': variant,\n",
    "        'ALS_ndcg': als_ndcg,\n",
    "        'SVD_ndcg': svd_ndcg,\n",
    "    })\n",
    "\n",
    "results_df = pd.DataFrame(results)\n",
    "display(results_df)\n",
    "# в вариатнте 0 используется исходный датасет"
   ]
  },
  {
   "cell_type": "markdown",
   "id": "ee7a03b1-5072-4bc4-ba46-1fc3c989b888",
   "metadata": {},
   "source": [
    "##### Задание 5. iALS на numpy/torch. Давайте реализуем алгоритм iALS на нумпае или торче. Требуется реализовать алгорит, описанный в 4 части [статьи](http://yifanhu.net/PUB/cf.pdf). Обратите внимания на все оптимизации, которые они описывают в статье, чтобы сократить лишние вычисления. Hint: метрики у вашего алгоритма должны быть сравнимы с метриками ALS из библиотеки implicit"
   ]
  },
  {
   "cell_type": "code",
   "execution_count": 42,
   "id": "e6be5f0d-1454-4f15-9dd1-17d1f1f99583",
   "metadata": {},
   "outputs": [],
   "source": [
    "class iALS:\n",
    "    def __init__(self, n_factors: int = 100, alpha: float = 1.0, reg_coef=0.01):\n",
    "        self.n_factors = n_factors\n",
    "        self.alpha = alpha\n",
    "        self.reg_coef = reg_coef\n",
    "        self.user_factors = None\n",
    "        self.item_factors = None\n",
    "        self._p = None\n",
    "        self._fited = False\n",
    "\n",
    "    def fit(self, interactions: np.ndarray, n_iterations: int = 10):\n",
    "        n_users, n_items = interactions.shape\n",
    "        p = (interactions > 0).astype(np.float64)\n",
    "        C = 1 + self.alpha * interactions\n",
    "        reg_I = np.diag([self.reg_coef] * self.n_factors)\n",
    "\n",
    "        X = np.random.normal(size=(n_users, self.n_factors))\n",
    "        Y = np.random.normal(size=(n_items, self.n_factors))\n",
    "\n",
    "        for iteration in trange(n_iterations):\n",
    "            YtY = Y.T @ Y\n",
    "            for u in range(n_users):\n",
    "                indices = np.where(p[u] > 0)[0]\n",
    "                A = YtY.copy()\n",
    "                b = np.zeros(self.n_factors)  # сумма conf * y_i\n",
    "                for i in indices:\n",
    "                    y_i = Y[i]\n",
    "                    conf = C[u, i]  # уверенность для пары юзер айтем\n",
    "                    A += (conf - 1) * np.outer(y_i, y_i)  # C_u = I + (C_u - I)\n",
    "                    b += conf * y_i\n",
    "                A += reg_I\n",
    "                X[u] = np.linalg.solve(A, b)\n",
    "\n",
    "            XtX = X.T @ X\n",
    "            for i in range(n_items):\n",
    "                indices = np.where(p[:, i] > 0)[0]\n",
    "                A = XtX.copy()\n",
    "                b = np.zeros(self.n_factors)\n",
    "                for u in indices:\n",
    "                    x_u = X[u]\n",
    "                    conf = C[u, i]\n",
    "                    A += (conf - 1) * np.outer(x_u, x_u)\n",
    "                    b += conf * x_u\n",
    "                A += reg_I\n",
    "                Y[i] = np.linalg.solve(A, b)\n",
    "\n",
    "        self.user_factors = X\n",
    "        self.item_factors = Y\n",
    "        self._p = p\n",
    "        self._fited = True\n",
    "\n",
    "    def predict(self, top_k: int = 100):\n",
    "        # возвращает top-k айтемов для каждого юзера(айтемы с которыми юзер взаимодействовал не должны попасть в рекомендации)\n",
    "        if not self._fited:\n",
    "            raise ValueError\n",
    "\n",
    "        scores = self.user_factors @ self.item_factors.T\n",
    "        n_users, n_items = scores.shape\n",
    "        predicts = np.zeros((n_users, top_k), dtype=np.int32)\n",
    "        for u in range(n_users):\n",
    "            user_scores = scores[u]\n",
    "            user_scores[self._p[u] > 0] = -np.inf\n",
    "            top_items = np.argpartition(user_scores, -top_k)[-top_k:]\n",
    "            predicts[u] = top_items\n",
    "        return predicts  # shape ~ [n_users, top_k]"
   ]
  },
  {
   "cell_type": "code",
   "execution_count": 43,
   "id": "0bef80e8-e172-4bc4-9ab2-eb0e3680c27b",
   "metadata": {},
   "outputs": [
    {
     "name": "stderr",
     "output_type": "stream",
     "text": [
      "100%|███████████████████████████████████████████| 10/10 [01:31<00:00,  9.20s/it]\n"
     ]
    },
    {
     "name": "stdout",
     "output_type": "stream",
     "text": [
      "NDCG для кастомной модели iALS: 0.051184999967626536\n"
     ]
    }
   ],
   "source": [
    "model = iALS(n_factors=10)\n",
    "\n",
    "model.fit(interactions, n_iterations=10)\n",
    "\n",
    "top_k = 100\n",
    "recs = model.predict(top_k=top_k)\n",
    "\n",
    "ndcg_val = compute_ndcg(recs, test_interactions_coo, top_k=top_k)\n",
    "print('NDCG для кастомной модели iALS:', ndcg_val)"
   ]
  }
 ],
 "metadata": {
  "kernelspec": {
   "display_name": "Python 3 (ipykernel)",
   "language": "python",
   "name": "python3"
  },
  "language_info": {
   "codemirror_mode": {
    "name": "ipython",
    "version": 3
   },
   "file_extension": ".py",
   "mimetype": "text/x-python",
   "name": "python",
   "nbconvert_exporter": "python",
   "pygments_lexer": "ipython3",
   "version": "3.12.2"
  }
 },
 "nbformat": 4,
 "nbformat_minor": 5
}
