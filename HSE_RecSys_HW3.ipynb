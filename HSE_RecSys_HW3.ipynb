{
 "cells": [
  {
   "metadata": {},
   "cell_type": "markdown",
   "source": [
    "## ДЗ №3 Двухуровневый пайплайн\n",
    "#### В этой домашке вам предстоит написать с нуля двустадийную рекомендательную систему. \n",
    "\n",
    "#### Дата выдачи: 10.03.25\n",
    "\n",
    "#### Мягкий дедлайн: 31.03.25 23:59 MSK\n",
    "\n",
    "#### Жесткий дедлайн: 7.04.25 23:59 MSK"
   ]
  },
  {
   "metadata": {},
   "cell_type": "markdown",
   "source": [
    "### Описание\n",
    "Это творческое задание, в котором вам необходимо реализовать полный цикл построения рекомендательной системы: реализовать кандидат генераторов, придумать и собрать признаки, обучить итоговый ранкер и заинференсить модели на всех пользователей.\n",
    "\n",
    "Вам предоставляется два набора данных: `train.csv` и `test.csv`"
   ]
  },
  {
   "metadata": {
    "ExecuteTime": {
     "end_time": "2025-04-07T18:34:14.423130Z",
     "start_time": "2025-04-07T18:34:11.676394Z"
    }
   },
   "cell_type": "code",
   "source": [
    "import os\n",
    "import pandas as pd\n",
    "import numpy as np\n",
    "from tqdm import tqdm\n",
    "from scipy.sparse import csr_matrix\n",
    "from implicit.als import AlternatingLeastSquares\n",
    "import torch\n",
    "from rectools.models import SASRecModel\n",
    "from rectools.dataset import Dataset\n",
    "from xgboost import XGBRanker, XGBClassifier, plot_importance\n",
    "from sklearn.preprocessing import OneHotEncoder\n",
    "from sklearn.metrics import accuracy_score, classification_report, ndcg_score\n",
    "import shap"
   ],
   "outputs": [],
   "execution_count": 1
  },
  {
   "metadata": {
    "ExecuteTime": {
     "end_time": "2025-04-07T18:34:14.430426Z",
     "start_time": "2025-04-07T18:34:14.428751Z"
    }
   },
   "cell_type": "code",
   "source": [
    "# скачиваем данные\n",
    "# если из этой ячейки не получается, то вот ссылка на папку https://drive.google.com/drive/folders/1HT0Apm8Jft0VPLJtdBBUGu9s1M7vZcoJ?usp=drive_link\n",
    "\n",
    "# !pip3 install gdown\n",
    "\n",
    "\n",
    "# import gdown\n",
    "# # train\n",
    "# url = \"https://drive.google.com/file/d/1-CcS22-UpTJeNcFlA0dVLrEQn8jnI0d-/view?usp=drive_link\"\n",
    "# output = 'train.csv'\n",
    "# gdown.download(url, output, quiet=False)\n",
    "\n",
    "# # test\n",
    "# url = \"https://drive.google.com/file/d/11iz3xDh0IIoEIBY0dyRSvByY3qfiT3BG/view?usp=drive_link\"\n",
    "# output = 'test.csv'\n",
    "# gdown.download(url, output, quiet=False)"
   ],
   "outputs": [],
   "execution_count": 2
  },
  {
   "metadata": {},
   "cell_type": "markdown",
   "source": [
    "\n",
    "\n",
    "### 1 Этап. Модели первого уровня. (max 3 балла)\n",
    "В этом этапе вам необходимо разделить `train` датасет на 2 части: для обучения моделей первого уровня и для их валидации. Единственное условие для разбиения – разбивать нужно по времени. Данные для обучение будем называть `train_stage_1`, данные для валидации `valid_stage_1`. Объемы этих датасетов вы определяет самостоятельно. \n",
    "\n",
    "Для начала нам нужно отобрать кандидатов при помощи легких моделей. Необходимо реализовать 3 типа моделей:\n",
    "1. Любая эвристическая(алгоритмичная) модель на ваш выбор **(0.5 балл)**\n",
    "2. Любая матричная факторизация на ваш выбор **(1 балл)**\n",
    "3. Любая нейросетевая модель на ваш выбор **(1 балла)**\n",
    "\n",
    "Не забудьте использовать скор каждой модели, как признак!\n",
    "\n"
   ]
  },
  {
   "metadata": {
    "ExecuteTime": {
     "end_time": "2025-04-07T18:34:15.638612Z",
     "start_time": "2025-04-07T18:34:14.433700Z"
    }
   },
   "cell_type": "code",
   "source": [
    "train_df = pd.read_csv('train_part.csv')\n",
    "test_df = pd.read_csv('test_part.csv')\n",
    "users_df = pd.read_csv('users.csv')\n",
    "items_df = pd.read_csv('items.csv')"
   ],
   "outputs": [],
   "execution_count": 3
  },
  {
   "metadata": {
    "ExecuteTime": {
     "end_time": "2025-04-07T18:34:15.703600Z",
     "start_time": "2025-04-07T18:34:15.699277Z"
    }
   },
   "cell_type": "code",
   "source": "train_df.head()",
   "outputs": [
    {
     "data": {
      "text/plain": [
       "   user_id  item_id last_watch_dt  total_dur  watched_pct  target\n",
       "0   310745    13373    2021-03-13       4485         98.0       1\n",
       "1   952323    15997    2021-03-13       7507        100.0       1\n",
       "2   889459    11460    2021-03-13         60          0.0       0\n",
       "3   854016    11237    2021-03-13       5381         98.0       1\n",
       "4   307257     9132    2021-03-13       5814        100.0       1"
      ],
      "text/html": [
       "<div>\n",
       "<style scoped>\n",
       "    .dataframe tbody tr th:only-of-type {\n",
       "        vertical-align: middle;\n",
       "    }\n",
       "\n",
       "    .dataframe tbody tr th {\n",
       "        vertical-align: top;\n",
       "    }\n",
       "\n",
       "    .dataframe thead th {\n",
       "        text-align: right;\n",
       "    }\n",
       "</style>\n",
       "<table border=\"1\" class=\"dataframe\">\n",
       "  <thead>\n",
       "    <tr style=\"text-align: right;\">\n",
       "      <th></th>\n",
       "      <th>user_id</th>\n",
       "      <th>item_id</th>\n",
       "      <th>last_watch_dt</th>\n",
       "      <th>total_dur</th>\n",
       "      <th>watched_pct</th>\n",
       "      <th>target</th>\n",
       "    </tr>\n",
       "  </thead>\n",
       "  <tbody>\n",
       "    <tr>\n",
       "      <th>0</th>\n",
       "      <td>310745</td>\n",
       "      <td>13373</td>\n",
       "      <td>2021-03-13</td>\n",
       "      <td>4485</td>\n",
       "      <td>98.0</td>\n",
       "      <td>1</td>\n",
       "    </tr>\n",
       "    <tr>\n",
       "      <th>1</th>\n",
       "      <td>952323</td>\n",
       "      <td>15997</td>\n",
       "      <td>2021-03-13</td>\n",
       "      <td>7507</td>\n",
       "      <td>100.0</td>\n",
       "      <td>1</td>\n",
       "    </tr>\n",
       "    <tr>\n",
       "      <th>2</th>\n",
       "      <td>889459</td>\n",
       "      <td>11460</td>\n",
       "      <td>2021-03-13</td>\n",
       "      <td>60</td>\n",
       "      <td>0.0</td>\n",
       "      <td>0</td>\n",
       "    </tr>\n",
       "    <tr>\n",
       "      <th>3</th>\n",
       "      <td>854016</td>\n",
       "      <td>11237</td>\n",
       "      <td>2021-03-13</td>\n",
       "      <td>5381</td>\n",
       "      <td>98.0</td>\n",
       "      <td>1</td>\n",
       "    </tr>\n",
       "    <tr>\n",
       "      <th>4</th>\n",
       "      <td>307257</td>\n",
       "      <td>9132</td>\n",
       "      <td>2021-03-13</td>\n",
       "      <td>5814</td>\n",
       "      <td>100.0</td>\n",
       "      <td>1</td>\n",
       "    </tr>\n",
       "  </tbody>\n",
       "</table>\n",
       "</div>"
      ]
     },
     "execution_count": 4,
     "metadata": {},
     "output_type": "execute_result"
    }
   ],
   "execution_count": 4
  },
  {
   "metadata": {
    "ExecuteTime": {
     "end_time": "2025-04-07T18:34:16.344522Z",
     "start_time": "2025-04-07T18:34:15.734241Z"
    }
   },
   "cell_type": "code",
   "source": [
    "# Добавляем колонку с днем, в который произошла интеракция, за 0 берем самый ранний день\n",
    "train_df['timestamp'] = (\n",
    "        pd.to_datetime(train_df['last_watch_dt']) - pd.to_datetime(train_df['last_watch_dt']).min()).dt.days\n",
    "test_df['timestamp'] = (\n",
    "        pd.to_datetime(test_df['last_watch_dt']) - pd.to_datetime(train_df['last_watch_dt']).min()).dt.days\n",
    "\n",
    "# train_df['timestamp'] = pd.to_datetime(train_df['last_watch_dt']).apply(lambda x: x.timestamp())\n",
    "# test_df['timestamp'] = pd.to_datetime(train_df['last_watch_dt']).apply(lambda x: x.timestamp())"
   ],
   "outputs": [],
   "execution_count": 5
  },
  {
   "metadata": {
    "ExecuteTime": {
     "end_time": "2025-04-07T18:34:19.763661Z",
     "start_time": "2025-04-07T18:34:16.358337Z"
    }
   },
   "cell_type": "code",
   "source": [
    "# Делаем, чтобы все айдишники были от 0 до количества уникальных юзеров\n",
    "unique_users = np.unique(np.concatenate((train_df['user_id'], test_df['user_id'], users_df['user_id'])))\n",
    "unique_items = np.unique(np.concatenate((train_df['item_id'], test_df['item_id'], items_df['item_id'])))\n",
    "\n",
    "user2id = {user: idx for idx, user in enumerate(unique_users)}\n",
    "item2id = {item: idx for idx, item in enumerate(unique_items)}\n",
    "\n",
    "train_df['user_id'] = train_df['user_id'].apply(lambda x: user2id[x])\n",
    "test_df['user_id'] = test_df['user_id'].apply(lambda x: user2id[x])\n",
    "\n",
    "train_df['item_id'] = train_df['item_id'].apply(lambda x: item2id[x])\n",
    "test_df['item_id'] = test_df['item_id'].apply(lambda x: item2id[x])\n",
    "\n",
    "users_df['user_id'] = users_df['user_id'].apply(lambda x: user2id[x])\n",
    "items_df['item_id'] = items_df['item_id'].apply(lambda x: item2id[x])"
   ],
   "outputs": [],
   "execution_count": 6
  },
  {
   "metadata": {
    "ExecuteTime": {
     "end_time": "2025-04-07T18:34:19.983683Z",
     "start_time": "2025-04-07T18:34:19.795653Z"
    }
   },
   "cell_type": "code",
   "source": [
    "# Разбиваем датасет по времени. В train_stage_1 берем все интеракции до max_day - delta, в valid_stage_1 остальные\n",
    "max_day = train_df.timestamp.max()\n",
    "delta = 7\n",
    "\n",
    "train_stage_1 = train_df.loc[(train_df.timestamp < max_day - delta)]\n",
    "valid_stage_1 = train_df.loc[(train_df.timestamp >= max_day - delta)]\n",
    "assert train_stage_1.timestamp.max() < valid_stage_1.timestamp.min()\n",
    "\n",
    "unique_users_train_stage_1 = train_stage_1['user_id'].unique()\n",
    "unique_users_valid_stage_1 = valid_stage_1['user_id'].unique()\n",
    "\n",
    "print(len(unique_users_train_stage_1), len(unique_users_valid_stage_1))\n",
    "print(\n",
    "    f'Количество юзеров и в train_stage_1 в valid_stage_1: {np.intersect1d(unique_users_train_stage_1, unique_users_valid_stage_1).shape[0]}')"
   ],
   "outputs": [
    {
     "name": "stdout",
     "output_type": "stream",
     "text": [
      "819278 170259\n",
      "Количество юзеров и в train_stage_1 в valid_stage_1: 109116\n"
     ]
    }
   ],
   "execution_count": 7
  },
  {
   "metadata": {
    "ExecuteTime": {
     "end_time": "2025-04-07T18:34:20.023599Z",
     "start_time": "2025-04-07T18:34:20.021372Z"
    }
   },
   "cell_type": "code",
   "source": [
    "# Если есть запись в датасете, то считаем, что юзер посмотрел айтем, не смотрим на колонку target\n",
    "\n",
    "def create_sparse_interactions_matrix(df: pd.DataFrame, index='user_id', columns='item_id'):\n",
    "    data = np.ones(len(df))\n",
    "    row_indices = df[index].values\n",
    "    col_indices = df[columns].values\n",
    "    n_users = np.max(row_indices) + 1\n",
    "    n_items = np.max(col_indices) + 1\n",
    "\n",
    "    return csr_matrix((data, (row_indices, col_indices)), shape=(n_users, n_items))\n",
    "\n",
    "# valid_stage_1_interactions = create_sparse_interactions_matrix(valid_stage_1)\n",
    "# train_stage_1_interactions = create_sparse_interactions_matrix(train_stage_1)"
   ],
   "outputs": [],
   "execution_count": 8
  },
  {
   "metadata": {
    "ExecuteTime": {
     "end_time": "2025-04-07T18:34:20.155135Z",
     "start_time": "2025-04-07T18:34:20.045234Z"
    }
   },
   "cell_type": "code",
   "source": [
    "# Считаем, что пользователь посмотрел айтем, только если в соответствующей колонке target стоит 1\n",
    "\n",
    "def create_sparse_interactions_matrix_with_target(df: pd.DataFrame, index='user_id', columns='item_id',\n",
    "                                                  target='target'):\n",
    "    df_filtered = df[df[target] == 1]\n",
    "\n",
    "    data = np.ones(len(df_filtered))\n",
    "    row_indices = df_filtered[index].values\n",
    "    col_indices = df_filtered[columns].values\n",
    "    n_users = np.max(row_indices) + 1\n",
    "    n_items = np.max(col_indices) + 1\n",
    "\n",
    "    return csr_matrix((data, (row_indices, col_indices)), shape=(n_users, n_items))\n",
    "\n",
    "\n",
    "valid_stage_1_interactions = create_sparse_interactions_matrix_with_target(valid_stage_1)\n",
    "train_stage_1_interactions = create_sparse_interactions_matrix_with_target(train_stage_1)"
   ],
   "outputs": [],
   "execution_count": 9
  },
  {
   "metadata": {},
   "cell_type": "markdown",
   "source": [
    "Каждая модель должна уметь:\n",
    "1) для пары user_item предсказывать скор релевантности (масштаб скора не важен), важно обработать случаи, когда модель не можеn проскорить пользователя или айтем, вместо этого вернуть какое-то дефолтное значение\n",
    "2) для всех пользователей вернуть top-k самых релевантных айтемов (тут вам скоры не нужны)\n",
    "\n",
    "\n",
    "Дополнительно можно провести анализ кандидат генератов, измерить насколько различные айтемы они рекомендуют, например с помощью таких метрик как: [Ranked based overlap](https://github.com/changyaochen/rbo) или различные вариации [Diversity](https://github.com/MaurizioFD/RecSys2019_DeepLearning_Evaluation/blob/master/Base/Evaluation/metrics.py#L289). **(1 балл)**"
   ]
  },
  {
   "metadata": {},
   "cell_type": "markdown",
   "source": [
    "#### Эвристическая модель\n",
    "Модель рекомендует самые популярные айтемы. Если в метод predicted передать интеракции пользователя, то модель не будет рекомендовать айтемы, с которыми пользователь уже взаимодействовал."
   ]
  },
  {
   "metadata": {
    "ExecuteTime": {
     "end_time": "2025-04-07T18:34:20.164100Z",
     "start_time": "2025-04-07T18:34:20.161365Z"
    }
   },
   "cell_type": "code",
   "source": [
    "class TopPopular:\n",
    "    def __init__(self, default_score=0.0):\n",
    "        self.trained = False\n",
    "        self.default_score = default_score\n",
    "\n",
    "    def fit(self, interactions: csr_matrix):\n",
    "        self.item_popularity = np.array(np.sum(interactions, axis=0)).squeeze()\n",
    "        self.ranking = np.argsort(-self.item_popularity)\n",
    "        self.trained = True\n",
    "\n",
    "    def recommend(self, user_interactions: csr_matrix = None, top_k: int = 10):\n",
    "        if not self.trained:\n",
    "            raise ValueError\n",
    "\n",
    "        if user_interactions is None:\n",
    "            return self.ranking[:top_k].tolist()\n",
    "        else:\n",
    "            interacted = np.array(user_interactions.todense()).squeeze() > 0\n",
    "            predicted = []\n",
    "            for item in self.ranking:\n",
    "                if not interacted[item]:\n",
    "                    predicted.append(item)\n",
    "                if len(predicted) >= top_k:\n",
    "                    break\n",
    "            return predicted\n",
    "\n",
    "    def score(self, item: int) -> float:\n",
    "        if not self.trained:\n",
    "            return self.default_score\n",
    "        if item < 0 or item >= len(self.item_popularity):\n",
    "            return self.default_score\n",
    "\n",
    "        return self.item_popularity[item]\n"
   ],
   "outputs": [],
   "execution_count": 10
  },
  {
   "metadata": {
    "ExecuteTime": {
     "end_time": "2025-04-07T18:34:20.212141Z",
     "start_time": "2025-04-07T18:34:20.203461Z"
    }
   },
   "cell_type": "code",
   "source": [
    "my_heuristic_model = TopPopular()\n",
    "my_heuristic_model.fit(train_stage_1_interactions)"
   ],
   "outputs": [],
   "execution_count": 11
  },
  {
   "metadata": {
    "ExecuteTime": {
     "end_time": "2025-04-07T18:34:21.532311Z",
     "start_time": "2025-04-07T18:34:20.220216Z"
    }
   },
   "cell_type": "code",
   "source": [
    "def ndcg_metric(gt_items, predicted):\n",
    "    at = len(predicted)\n",
    "    relevance = np.array([1 if item in gt_items else 0 for item in predicted])\n",
    "    rank_dcg = dcg(relevance)\n",
    "\n",
    "    if rank_dcg == 0.0:\n",
    "        return 0.0\n",
    "\n",
    "    ideal_relevance = np.sort(relevance)[::-1][:at]\n",
    "    ideal_dcg = dcg(ideal_relevance)\n",
    "\n",
    "    if ideal_dcg == 0.0:\n",
    "        return 0.0\n",
    "\n",
    "    ndcg_ = rank_dcg / ideal_dcg\n",
    "\n",
    "    return ndcg_\n",
    "\n",
    "\n",
    "def dcg(scores):\n",
    "    return np.sum(np.divide(np.power(2, scores) - 1, np.log2(np.arange(scores.shape[0], dtype=np.float64) + 2)),\n",
    "                  dtype=np.float64)\n",
    "\n",
    "\n",
    "def recall_metric(gt_items, predicted):\n",
    "    n_gt = len(gt_items)\n",
    "    intersection = len(set(gt_items).intersection(set(predicted)))\n",
    "    return intersection / n_gt\n",
    "\n",
    "\n",
    "def evaluate_heuristic_model(df):\n",
    "    df = df[df['target'] == 1]\n",
    "    user_gt = df.groupby('user_id')['item_id'].apply(list)\n",
    "    recommended = my_heuristic_model.recommend()\n",
    "\n",
    "    metric_values = []\n",
    "    for user, gt_items in tqdm(user_gt.items(), total=len(user_gt), desc=\"Evaluating\"):\n",
    "        ndcg = ndcg_metric(gt_items, recommended)\n",
    "        recall = recall_metric(gt_items, recommended)\n",
    "        metric_values.append((ndcg, recall))\n",
    "\n",
    "    return {\n",
    "        'ndcg': np.mean([x[0] for x in metric_values]),\n",
    "        'recall': np.mean([x[1] for x in metric_values])\n",
    "    }\n",
    "\n",
    "\n",
    "evaluate_heuristic_model(valid_stage_1)"
   ],
   "outputs": [
    {
     "name": "stderr",
     "output_type": "stream",
     "text": [
      "Evaluating: 100%|██████████| 81266/81266 [00:00<00:00, 109384.20it/s]\n"
     ]
    },
    {
     "data": {
      "text/plain": [
       "{'ndcg': 0.2036671666682141, 'recall': 0.2718537194208964}"
      ]
     },
     "execution_count": 12,
     "metadata": {},
     "output_type": "execute_result"
    }
   ],
   "execution_count": 12
  },
  {
   "metadata": {
    "ExecuteTime": {
     "end_time": "2025-04-07T18:34:21.560353Z",
     "start_time": "2025-04-07T18:34:21.558981Z"
    }
   },
   "cell_type": "code",
   "source": "",
   "outputs": [],
   "execution_count": null
  },
  {
   "metadata": {},
   "cell_type": "markdown",
   "source": "#### Модель матричной факторизации"
  },
  {
   "metadata": {
    "ExecuteTime": {
     "end_time": "2025-04-07T18:38:02.597801Z",
     "start_time": "2025-04-07T18:34:21.580450Z"
    }
   },
   "cell_type": "code",
   "source": [
    "my_matrix_factorization = AlternatingLeastSquares(iterations=15)\n",
    "my_matrix_factorization.fit(train_stage_1_interactions)"
   ],
   "outputs": [
    {
     "name": "stderr",
     "output_type": "stream",
     "text": [
      "/Users/ivanpleskov/.pyenv/versions/recsys/lib/python3.12/site-packages/implicit/cpu/als.py:95: RuntimeWarning: OpenBLAS is configured to use 12 threads. It is highly recommended to disable its internal threadpool by setting the environment variable 'OPENBLAS_NUM_THREADS=1' or by calling 'threadpoolctl.threadpool_limits(1, \"blas\")'. Having OpenBLAS use a threadpool can lead to severe performance issues here.\n",
      "  check_blas_config()\n"
     ]
    },
    {
     "data": {
      "text/plain": [
       "  0%|          | 0/15 [00:00<?, ?it/s]"
      ],
      "application/vnd.jupyter.widget-view+json": {
       "version_major": 2,
       "version_minor": 0,
       "model_id": "35d82381d4d6418ba70361ba9047acb8"
      }
     },
     "metadata": {},
     "output_type": "display_data"
    }
   ],
   "execution_count": 13
  },
  {
   "metadata": {
    "ExecuteTime": {
     "end_time": "2025-04-07T18:38:16.501389Z",
     "start_time": "2025-04-07T18:38:02.687363Z"
    }
   },
   "cell_type": "code",
   "source": [
    "def evaluate_matrix_factorization_model(df, train_matrix, top_k=10):\n",
    "    df = df[df['target'] == 1]\n",
    "    user_gt = df.groupby('user_id')['item_id'].apply(list)\n",
    "\n",
    "    metric_values = []\n",
    "    for user, gt_items in tqdm(user_gt.items(), total=len(user_gt), desc=\"Evaluating\"):\n",
    "        recs = my_matrix_factorization.recommend(user, train_matrix[user], N=top_k)\n",
    "        if recs and isinstance(recs[0], tuple):\n",
    "            recommended = [item for item, _ in recs]\n",
    "        else:\n",
    "            recommended = recs\n",
    "\n",
    "        ndcg = ndcg_metric(gt_items, recommended[0])\n",
    "        recall = recall_metric(gt_items, recommended[0])\n",
    "        metric_values.append((ndcg, recall))\n",
    "\n",
    "    return {\n",
    "        'ndcg': np.mean([x[0] for x in metric_values]),\n",
    "        'recall': np.mean([x[1] for x in metric_values])\n",
    "    }\n",
    "\n",
    "\n",
    "evaluate_matrix_factorization_model(valid_stage_1, train_stage_1_interactions, top_k=10)"
   ],
   "outputs": [
    {
     "name": "stderr",
     "output_type": "stream",
     "text": [
      "Evaluating: 100%|██████████| 81266/81266 [00:13<00:00, 6099.43it/s]\n"
     ]
    },
    {
     "data": {
      "text/plain": [
       "{'ndcg': 0.02969148766232318, 'recall': 0.029002818093920683}"
      ]
     },
     "execution_count": 14,
     "metadata": {},
     "output_type": "execute_result"
    }
   ],
   "execution_count": 14
  },
  {
   "metadata": {},
   "cell_type": "markdown",
   "source": "#### Нейросетевая модель"
  },
  {
   "metadata": {
    "ExecuteTime": {
     "end_time": "2025-04-07T18:38:16.901920Z",
     "start_time": "2025-04-07T18:38:16.506847Z"
    }
   },
   "cell_type": "code",
   "source": [
    "def create_dataser_for_SasRec(df: pd.DataFrame, user_id='user_id', item_id='item_id', timestamp='last_watch_dt',\n",
    "                              target='target'):\n",
    "    interactions_df = df.copy()\n",
    "    interactions_df['last_watch_dt'] = pd.to_datetime(interactions_df['last_watch_dt'])\n",
    "    interactions_df = interactions_df[[user_id, item_id, timestamp, target]]\n",
    "    interactions_df.rename(columns={timestamp: 'datetime', target: 'weight'}, inplace=True)\n",
    "    return interactions_df\n",
    "\n",
    "\n",
    "train_stage_1_interactions_sasrec = create_dataser_for_SasRec(train_stage_1)\n",
    "dataset = Dataset.construct(train_stage_1_interactions_sasrec)"
   ],
   "outputs": [],
   "execution_count": 15
  },
  {
   "metadata": {
    "ExecuteTime": {
     "end_time": "2025-04-07T18:53:40.964614Z",
     "start_time": "2025-04-07T18:38:16.922581Z"
    }
   },
   "cell_type": "code",
   "source": [
    "sasrec = SASRecModel(\n",
    "    session_max_len=20,\n",
    "    loss=\"softmax\",\n",
    "    n_factors=64,\n",
    "    n_blocks=1,\n",
    "    n_heads=4,\n",
    "    dropout_rate=0.2,\n",
    "    lr=0.001,\n",
    "    batch_size=128,\n",
    "    epochs=5,\n",
    "    verbose=1,\n",
    ")\n",
    "sasrec.fit(dataset)\n",
    "\n"
   ],
   "outputs": [
    {
     "name": "stderr",
     "output_type": "stream",
     "text": [
      "GPU available: True (mps), used: True\n",
      "TPU available: False, using: 0 TPU cores\n",
      "HPU available: False, using: 0 HPUs\n",
      "/Users/ivanpleskov/.pyenv/versions/recsys/lib/python3.12/site-packages/pytorch_lightning/trainer/connectors/logger_connector/logger_connector.py:76: Starting from v1.9.0, `tensorboardX` has been removed as a dependency of the `pytorch_lightning` package, due to potential conflicts with other packages in the ML ecosystem. For this reason, `logger=True` will use `CSVLogger` as the default logger, unless the `tensorboard` or `tensorboardX` packages are found. Please `pip install lightning[extra]` or one of them to enable TensorBoard support by default\n",
      "/Users/ivanpleskov/.pyenv/versions/recsys/lib/python3.12/site-packages/rectools/dataset/identifiers.py:60: FutureWarning: unique with argument that is not not a Series, Index, ExtensionArray, or np.ndarray is deprecated and will raise in a future version.\n",
      "  unq_values = pd.unique(values)\n",
      "/Users/ivanpleskov/.pyenv/versions/recsys/lib/python3.12/site-packages/rectools/models/nn/item_net.py:129: UserWarning: Ignoring `CatFeaturesItemNet` block because dataset doesn't contain item features.\n",
      "  warnings.warn(explanation)\n",
      "/Users/ivanpleskov/.pyenv/versions/recsys/lib/python3.12/site-packages/pydantic/main.py:453: UserWarning: Pydantic serializer warnings:\n",
      "  PydanticSerializationUnexpectedValue(Expected `str` - serialized value may not be as expected [input_value=('rectools.models.nn.item...net.CatFeaturesItemNet'), input_type=tuple])\n",
      "  return self.__pydantic_serializer__.to_python(\n",
      "/Users/ivanpleskov/.pyenv/versions/recsys/lib/python3.12/site-packages/pytorch_lightning/trainer/configuration_validator.py:70: You defined a `validation_step` but have no `val_dataloader`. Skipping val loop.\n",
      "\n",
      "  | Name        | Type                     | Params | Mode \n",
      "-----------------------------------------------------------------\n",
      "0 | torch_model | TransformerTorchBackbone | 893 K  | train\n",
      "-----------------------------------------------------------------\n",
      "893 K     Trainable params\n",
      "0         Non-trainable params\n",
      "893 K     Total params\n",
      "3.575     Total estimated model params size (MB)\n",
      "23        Modules in train mode\n",
      "0         Modules in eval mode\n",
      "/Users/ivanpleskov/.pyenv/versions/recsys/lib/python3.12/site-packages/pytorch_lightning/trainer/connectors/data_connector.py:425: The 'train_dataloader' does not have many workers which may be a bottleneck. Consider increasing the value of the `num_workers` argument` to `num_workers=11` in the `DataLoader` to improve performance.\n"
     ]
    },
    {
     "data": {
      "text/plain": [
       "Training: |          | 0/? [00:00<?, ?it/s]"
      ],
      "application/vnd.jupyter.widget-view+json": {
       "version_major": 2,
       "version_minor": 0,
       "model_id": "56a91c1685d246f2aef6ed0e9563521a"
      }
     },
     "metadata": {},
     "output_type": "display_data"
    },
    {
     "name": "stderr",
     "output_type": "stream",
     "text": [
      "`Trainer.fit` stopped: `max_epochs=10` reached.\n"
     ]
    },
    {
     "data": {
      "text/plain": [
       "<rectools.models.nn.transformers.sasrec.SASRecModel at 0x388089760>"
      ]
     },
     "execution_count": 16,
     "metadata": {},
     "output_type": "execute_result"
    }
   ],
   "execution_count": 16
  },
  {
   "metadata": {
    "ExecuteTime": {
     "end_time": "2025-04-07T18:53:45.573189Z",
     "start_time": "2025-04-07T18:53:41.009141Z"
    }
   },
   "cell_type": "code",
   "source": [
    "def evaluate_sasrec_model(df, top_k=10):\n",
    "    df = df[df['target'] == 1]\n",
    "    user_gt = df.groupby('user_id')['item_id'].apply(list)\n",
    "\n",
    "    sasrec_recs = sasrec.recommend(\n",
    "        users=df['user_id'].unique(),\n",
    "        dataset=dataset,\n",
    "        k=top_k,\n",
    "        filter_viewed=True,\n",
    "        on_unsupported_targets=\"warn\"\n",
    "    )\n",
    "    recommended = sasrec_recs.groupby('user_id')['item_id'].apply(list)\n",
    "\n",
    "    metric_values = []\n",
    "    for user, gt_items in tqdm(user_gt.items(), total=len(user_gt), desc=\"Evaluating\"):\n",
    "        recs = recommended.get(user, [])\n",
    "        ndcg = ndcg_metric(gt_items, recs)\n",
    "        recall = recall_metric(gt_items, recs)\n",
    "        metric_values.append((ndcg, recall))\n",
    "\n",
    "    return {\n",
    "        'ndcg': np.mean([x[0] for x in metric_values]),\n",
    "        'recall': np.mean([x[1] for x in metric_values])\n",
    "    }\n",
    "\n",
    "\n",
    "evaluate_sasrec_model(valid_stage_1, top_k=10)"
   ],
   "outputs": [
    {
     "name": "stderr",
     "output_type": "stream",
     "text": [
      "/Users/ivanpleskov/.pyenv/versions/recsys/lib/python3.12/site-packages/rectools/models/nn/transformers/data_preparator.py:332: UserWarning: 23612 target users were considered cold because of missing known items\n",
      "  warnings.warn(explanation)\n",
      "/Users/ivanpleskov/.pyenv/versions/recsys/lib/python3.12/site-packages/rectools/models/base.py:695: UserWarning: \n",
      "                Model `<class 'rectools.models.nn.transformers.sasrec.SASRecModel'>` doesn't support recommendations for cold users,\n",
      "                but some of given users are cold: they are not in the `dataset.user_id_map`\n",
      "            \n",
      "  warnings.warn(explanation)\n",
      "Evaluating: 100%|██████████| 81266/81266 [00:00<00:00, 101787.69it/s]\n"
     ]
    },
    {
     "data": {
      "text/plain": [
       "{'ndcg': 0.1548145926590218, 'recall': 0.18126931794676004}"
      ]
     },
     "execution_count": 17,
     "metadata": {},
     "output_type": "execute_result"
    }
   ],
   "execution_count": 17
  },
  {
   "metadata": {},
   "cell_type": "markdown",
   "source": [
    "\n",
    "### 2 Этап. Генерация и сборка признаков. (max 2 балла)\n",
    "Необходимо собрать минимум 10 осмысленных (`np.radndom.rand()` не подойдет) признаков, при этом:\n",
    "1. 2 должны относиться только к сущности \"пользователь\" (например средний % просмотра фильмов у этой возрастной категории)\n",
    "2. 2 должны относиться только к сущности \"айтем\" (например средний средний % просмотра данного фильма)\n",
    "3. 6 признаков, которые показывают связь пользователя и айтема (например средний % просмотра фильмов с данным актером (айтем) у пользователей с таким же полом (пользователь)). \n",
    "\n",
    "### ВАЖНО!  \n",
    "\n",
    "1. **В датасете есть колонка `watched_prct`. Ее можно использовать для генерации признаков (например сколько пользователь в среднем смотрит фильмы), но нельзя подавать в модель, как отдельную фичу, потому что она напрямую связана с target.**\n",
    "2. **Все признаки должны быть собраны без дата лика, то есть если пользователь посмотрел фильм 10 августа, то признаки мы можем считать только на данных до 9 августа включительно.**\n",
    "\n",
    "\n",
    "### Разбалловка\n",
    "Обучение ранкера будет проходить на `valid_stage_1`, как  раз на которой мы валидировали модели, а тестировать на `test`. Поэтому есть 2 варианта сборки признаков, **реализовать нужно только 1 из них:**\n",
    "1. Для обучения собираем признаки на первый день `valid_stage_1`, а для теста на первый день `test`. Например, если `valid_stage_1` начинается 5 сентября, то все признаки мы можем собирать только по 4 сентября включительно. **(1 балл)**\n",
    "2. Признаки будем собирать честно на каждый день, то есть на 5 сентября собираем с начала до 4, на 6 сентября с начала до 5 и т.д. **(2 балла)**"
   ]
  },
  {
   "metadata": {},
   "cell_type": "markdown",
   "source": "Посчитаем новые признаки на первый день теста и первый день трейна, то есть как в пункте 1."
  },
  {
   "metadata": {
    "ExecuteTime": {
     "end_time": "2025-04-07T18:53:45.606569Z",
     "start_time": "2025-04-07T18:53:45.597215Z"
    }
   },
   "cell_type": "code",
   "source": [
    "def compute_item_age_genre_popularity(interactions,\n",
    "                                      item_id_column='item_id',\n",
    "                                      age_column='age',\n",
    "                                      genres_column='genres'):\n",
    "    df = interactions.copy()\n",
    "    df['genre_list'] = df[genres_column].fillna('').apply(\n",
    "        lambda x: [g.strip() for g in x.split(',') if g.strip()]\n",
    "    )\n",
    "\n",
    "    df_exploded = df.explode('genre_list')\n",
    "    df_exploded = df_exploded[df_exploded['genre_list'] != '']\n",
    "\n",
    "    age_genre_counts = df_exploded.groupby([age_column, 'genre_list']).size().reset_index(name='genre_count')\n",
    "\n",
    "    age_total_counts = df_exploded.groupby(age_column).size().reset_index(name='total_count')\n",
    "\n",
    "    age_genre_pop = age_genre_counts.merge(age_total_counts, on=age_column)\n",
    "    age_genre_pop['genre_popularity'] = age_genre_pop['genre_count'] / age_genre_pop['total_count']\n",
    "\n",
    "    genre_pop_dict = {\n",
    "        (row[age_column], row['genre_list']): row['genre_popularity']\n",
    "        for _, row in age_genre_pop.iterrows()\n",
    "    }\n",
    "\n",
    "    def calc_genre_pop(row):\n",
    "        user_age = row[age_column]\n",
    "        genres_str = row[genres_column]\n",
    "        if pd.isna(genres_str):\n",
    "            return None\n",
    "        genres = [g.strip() for g in genres_str.split(',') if g.strip()]\n",
    "        if not genres:\n",
    "            return None\n",
    "        pops = [genre_pop_dict.get((user_age, genre), 0) for genre in genres]\n",
    "        return sum(pops) / len(pops)\n",
    "\n",
    "    df['genre_popularity'] = df.apply(calc_genre_pop, axis=1)\n",
    "\n",
    "    item_age_features = df.groupby([item_id_column, age_column])['genre_popularity'] \\\n",
    "        .agg(['mean', 'median']).reset_index()\n",
    "    item_age_features = item_age_features.rename(columns={\n",
    "        'mean': 'avg_genre_popularity_by_age',\n",
    "        'median': 'median_genre_popularity_by_age'\n",
    "    })\n",
    "\n",
    "    df.drop(columns=['genre_list'], inplace=True)\n",
    "\n",
    "    return item_age_features\n",
    "\n",
    "\n",
    "def compute_item_kids_genre_popularity(interactions, item_id_column='item_id', kids_column='kids_flg',\n",
    "                                       genres_column='genres'):\n",
    "    df = interactions.copy()\n",
    "\n",
    "    df['genre_list'] = df[genres_column].fillna('').apply(\n",
    "        lambda x: [g.strip() for g in x.split(',') if g.strip()]\n",
    "    )\n",
    "\n",
    "    df_exploded = df.explode('genre_list')\n",
    "    df_exploded = df_exploded[df_exploded['genre_list'] != '']\n",
    "\n",
    "    kids_genre_counts = df_exploded.groupby([kids_column, 'genre_list']).size().reset_index(name='genre_count')\n",
    "\n",
    "    kids_total_counts = df_exploded.groupby(kids_column).size().reset_index(name='total_count')\n",
    "\n",
    "    kids_genre_pop = kids_genre_counts.merge(kids_total_counts, on=kids_column)\n",
    "    kids_genre_pop['genre_popularity'] = kids_genre_pop['genre_count'] / kids_genre_pop['total_count']\n",
    "\n",
    "    genre_kids_pop_dict = {\n",
    "        (row[kids_column], row['genre_list']): row['genre_popularity']\n",
    "        for _, row in kids_genre_pop.iterrows()\n",
    "    }\n",
    "\n",
    "    def calc_genre_pop(row):\n",
    "        user_kids = row[kids_column]\n",
    "        genres_str = row[genres_column]\n",
    "        if pd.isna(genres_str):\n",
    "            return None\n",
    "        genres = [g.strip() for g in genres_str.split(',') if g.strip()]\n",
    "        if not genres:\n",
    "            return None\n",
    "        pops = [genre_kids_pop_dict.get((user_kids, genre), 0) for genre in genres]\n",
    "        return sum(pops) / len(pops)\n",
    "\n",
    "    df['genre_popularity'] = df.apply(calc_genre_pop, axis=1)\n",
    "\n",
    "    item_kids_features = df.groupby([item_id_column, kids_column])['genre_popularity'] \\\n",
    "        .agg(['mean', 'median']).reset_index()\n",
    "    item_kids_features = item_kids_features.rename(columns={\n",
    "        'mean': 'avg_genre_popularity_by_kids',\n",
    "        'median': 'median_genre_popularity_by_kids'\n",
    "    })\n",
    "\n",
    "    df.drop(columns=['genre_list'], inplace=True)\n",
    "\n",
    "    return item_kids_features\n",
    "\n",
    "\n",
    "def compute_item_director_popularity_by_sex(interactions, item_id_column='item_id', sex_column='sex',\n",
    "                                            directors_column='directors', watched_pct_column='watched_pct'):\n",
    "    df = interactions.copy()\n",
    "\n",
    "    df['director_list'] = df[directors_column].fillna('').apply(\n",
    "        lambda x: [d.strip() for d in x.split(',') if d.strip()]\n",
    "    )\n",
    "\n",
    "    df_exploded = df.explode('director_list')\n",
    "    df_exploded = df_exploded[df_exploded['director_list'] != '']\n",
    "\n",
    "    director_stats = df_exploded.groupby([sex_column, 'director_list'])[watched_pct_column] \\\n",
    "        .mean().reset_index() \\\n",
    "        .rename(columns={watched_pct_column: 'avg_watched_pct_director'})\n",
    "\n",
    "    director_dict = {\n",
    "        (row[sex_column], row['director_list']): row['avg_watched_pct_director']\n",
    "        for _, row in director_stats.iterrows()\n",
    "    }\n",
    "\n",
    "    def calc_director_pop_by_sex(row):\n",
    "        user_sex = row[sex_column]\n",
    "        directors_str = row[directors_column]\n",
    "        if pd.isna(directors_str):\n",
    "            return None\n",
    "        directors = [d.strip() for d in directors_str.split(',') if d.strip()]\n",
    "        if not directors:\n",
    "            return None\n",
    "        values = [director_dict.get((user_sex, d), 0) for d in directors]\n",
    "        return sum(values) / len(values)\n",
    "\n",
    "    df['director_popularity_by_sex'] = df.apply(calc_director_pop_by_sex, axis=1)\n",
    "\n",
    "    item_sex_features = df.groupby([item_id_column, sex_column])['director_popularity_by_sex'] \\\n",
    "        .agg(['mean', 'median']).reset_index()\n",
    "    item_sex_features = item_sex_features.rename(columns={\n",
    "        'mean': 'avg_director_popularity_by_sex',\n",
    "        'median': 'median_director_popularity_by_sex'\n",
    "    })\n",
    "\n",
    "    df.drop(columns=['director_list'], inplace=True)\n",
    "\n",
    "    return item_sex_features\n",
    "\n",
    "\n",
    "def compute_item_director_popularity_by_age(interactions, item_id_column='item_id', age_column='age',\n",
    "                                            directors_column='directors', watched_pct_column='watched_pct'):\n",
    "    df = interactions.copy()\n",
    "\n",
    "    df['director_list'] = df[directors_column].fillna('').apply(\n",
    "        lambda x: [d.strip() for d in x.split(',') if d.strip()]\n",
    "    )\n",
    "\n",
    "    df_exploded = df.explode('director_list')\n",
    "    df_exploded = df_exploded[df_exploded['director_list'] != '']\n",
    "\n",
    "    director_age_stats = df_exploded.groupby([age_column, 'director_list'])[watched_pct_column] \\\n",
    "        .mean().reset_index() \\\n",
    "        .rename(columns={watched_pct_column: 'avg_watched_pct_director_age'})\n",
    "\n",
    "    director_age_dict = {\n",
    "        (row[age_column], row['director_list']): row['avg_watched_pct_director_age']\n",
    "        for _, row in director_age_stats.iterrows()\n",
    "    }\n",
    "\n",
    "    def calc_director_pop_by_age(row):\n",
    "        user_age = row[age_column]\n",
    "        directors_str = row[directors_column]\n",
    "        if pd.isna(directors_str):\n",
    "            return None\n",
    "        directors = [d.strip() for d in directors_str.split(',') if d.strip()]\n",
    "        if not directors:\n",
    "            return None\n",
    "        values = [director_age_dict.get((user_age, d), 0) for d in directors]\n",
    "        return sum(values) / len(values)\n",
    "\n",
    "    df['director_popularity_by_age'] = df.apply(calc_director_pop_by_age, axis=1)\n",
    "\n",
    "    item_age_features = df.groupby([item_id_column, age_column])['director_popularity_by_age'] \\\n",
    "        .agg(['mean', 'median']).reset_index()\n",
    "    item_age_features = item_age_features.rename(columns={\n",
    "        'mean': 'avg_director_popularity_by_age',\n",
    "        'median': 'median_director_popularity_by_age'\n",
    "    })\n",
    "\n",
    "    df.drop(columns=['director_list'], inplace=True)\n",
    "\n",
    "    return item_age_features\n",
    "\n",
    "\n",
    "def make_user_features(interactions: pd.DataFrame, user_features: pd.DataFrame, item_features: pd.DataFrame,\n",
    "                       cutoff_day: int) -> pd.DataFrame:\n",
    "    interactions = interactions[interactions['timestamp'] < cutoff_day]\n",
    "    interactions = interactions.merge(user_features, how='left', on='user_id')\n",
    "    interactions = interactions.merge(item_features[['item_id', 'release_year']], how='left', on='item_id')\n",
    "\n",
    "    age_agg = interactions.groupby('age')['watched_pct'].mean().reset_index().rename(\n",
    "        columns={'watched_pct': 'avg_watched_pct_age_group'})\n",
    "    user_agg = interactions.groupby('user_id').agg(\n",
    "        avg_watched_pct_user=('watched_pct', 'mean'),\n",
    "        count_films=('item_id', 'count'),\n",
    "        avg_release_year=('release_year', 'mean')\n",
    "    ).reset_index()\n",
    "\n",
    "    user_features = user_features.merge(age_agg, how='left', on='age')\n",
    "    user_features = user_features.merge(user_agg, how='left', on='user_id')\n",
    "    return user_features\n",
    "\n",
    "\n",
    "def make_item_features(interactions: pd.DataFrame, item_features: pd.DataFrame, cutoff_day: int) -> pd.DataFrame:\n",
    "    interactions = interactions[interactions['timestamp'] < cutoff_day]\n",
    "    interactions = interactions.merge(item_features, how='left', on='item_id')\n",
    "\n",
    "    avg_item_watched_pct = interactions.groupby('item_id')['watched_pct'].mean().reset_index().rename(\n",
    "        columns={'watched_pct': 'avg_watched_pct'})\n",
    "    median_item_watched_pct = interactions.groupby('item_id')['watched_pct'].median().reset_index().rename(\n",
    "        columns={'watched_pct': 'median_watched_pct'})\n",
    "\n",
    "    item_features = item_features.merge(avg_item_watched_pct, how='left', on='item_id')\n",
    "    item_features = item_features.merge(median_item_watched_pct, how='left', on='item_id')\n",
    "\n",
    "    return item_features\n",
    "\n",
    "\n",
    "def make_user_item_features(hist_interactions: pd.DataFrame, interactions: pd.DataFrame, user_features: pd.DataFrame,\n",
    "                            item_features: pd.DataFrame, cutoff_day: int):\n",
    "    hist_interactions = hist_interactions[hist_interactions['timestamp'] < cutoff_day]\n",
    "    hist_interactions = hist_interactions.merge(user_features, how='left', on='user_id')\n",
    "    hist_interactions = hist_interactions.merge(item_features, how='left', on='item_id')\n",
    "\n",
    "    gener_pop_by_age = compute_item_age_genre_popularity(hist_interactions)\n",
    "    gener_pop_by_kids = compute_item_kids_genre_popularity(hist_interactions)\n",
    "    director_pop_by_sex = compute_item_director_popularity_by_sex(hist_interactions)\n",
    "    director_pop_by_age = compute_item_director_popularity_by_age(hist_interactions)\n",
    "\n",
    "    interactions = interactions.merge(gener_pop_by_age, how='left', on=['item_id', 'age'])\n",
    "    interactions = interactions.merge(gener_pop_by_kids, how='left', on=['item_id', 'kids_flg'])\n",
    "    interactions = interactions.merge(director_pop_by_sex, how='left', on=['item_id', 'sex'])\n",
    "    interactions = interactions.merge(director_pop_by_age, how='left', on=['item_id', 'age'])\n",
    "\n",
    "    return interactions\n"
   ],
   "outputs": [],
   "execution_count": 18
  },
  {
   "metadata": {
    "ExecuteTime": {
     "end_time": "2025-04-07T18:56:59.813171Z",
     "start_time": "2025-04-07T18:53:45.608905Z"
    }
   },
   "cell_type": "code",
   "source": [
    "cutoff_day_train = valid_stage_1['timestamp'].max() + 1\n",
    "users_with_features = make_user_features(train_df, users_df, items_df, cutoff_day_train)\n",
    "items_with_features = make_item_features(train_df, items_df, cutoff_day_train)\n",
    "train_df_with_features = valid_stage_1.copy()\n",
    "train_df_with_features = train_df_with_features.merge(users_with_features, how='left', on='user_id')\n",
    "train_df_with_features = train_df_with_features.merge(items_with_features, how='left', on='item_id')\n",
    "\n",
    "train_df_with_features = make_user_item_features(train_df, train_df_with_features, users_df, items_df, cutoff_day_train)\n",
    "\n",
    "cutoff_day_test = train_df['timestamp'].max() + 1\n",
    "users_with_features_test = make_user_features(train_df, users_df, items_df, cutoff_day_test)\n",
    "items_with_features_test = make_item_features(train_df, items_df, cutoff_day_test)\n",
    "test_df_with_features = test_df.copy()\n",
    "test_df_with_features = test_df_with_features.merge(users_with_features_test, how='left', on='user_id')\n",
    "test_df_with_features = test_df_with_features.merge(items_with_features_test, how='left', on='item_id')\n",
    "\n",
    "test_df_with_features = make_user_item_features(train_df, test_df_with_features, users_df, items_df, cutoff_day_test)\n",
    "\n"
   ],
   "outputs": [],
   "execution_count": 19
  },
  {
   "metadata": {
    "ExecuteTime": {
     "end_time": "2025-04-07T18:57:19.019224Z",
     "start_time": "2025-04-07T18:56:59.879028Z"
    }
   },
   "cell_type": "code",
   "source": [
    "sasrec_recs = sasrec.recommend(\n",
    "    users=train_df_with_features['user_id'].values,\n",
    "    dataset=dataset,\n",
    "    k=100,\n",
    "    filter_viewed=True,\n",
    "    on_unsupported_targets=\"warn\"\n",
    ")\n",
    "\n",
    "\n",
    "def score_user_item(model, user_index, item_index, default_score=0.0):\n",
    "    if user_index >= model.user_factors.shape[0] or item_index >= model.item_factors.shape[0]:\n",
    "        return default_score\n",
    "    return np.dot(model.user_factors[user_index], model.item_factors[item_index])\n",
    "\n",
    "\n",
    "train_df_with_features['heuristic_model_score'] = train_df_with_features['item_id'].apply(\n",
    "    lambda x: my_heuristic_model.score(x))\n",
    "\n",
    "train_df_with_features['matrix_factorization_model_score'] = train_df_with_features[['user_id', 'item_id']].apply(\n",
    "    lambda x: score_user_item(my_matrix_factorization, x['user_id'], x['item_id']), axis=1)\n",
    "\n",
    "train_df_with_features = train_df_with_features.merge(sasrec_recs[['user_id', 'item_id', 'score']], how='left',\n",
    "                                                      on=['user_id', 'item_id']).rename(\n",
    "    columns={'score': 'sasrec_model_score'})\n",
    "\n",
    "test_df_with_features['heuristic_model_score'] = test_df_with_features['item_id'].apply(\n",
    "    lambda x: my_heuristic_model.score(x))\n",
    "\n",
    "test_df_with_features['matrix_factorization_model_score'] = test_df_with_features[['user_id', 'item_id']].apply(\n",
    "    lambda x: score_user_item(my_matrix_factorization, x['user_id'], x['item_id']), axis=1)\n",
    "\n",
    "test_df_with_features = test_df_with_features.merge(sasrec_recs[['user_id', 'item_id', 'score']], how='left',\n",
    "                                                    on=['user_id', 'item_id']).rename(\n",
    "    columns={'score': 'sasrec_model_score'})"
   ],
   "outputs": [
    {
     "name": "stderr",
     "output_type": "stream",
     "text": [
      "/Users/ivanpleskov/.pyenv/versions/recsys/lib/python3.12/site-packages/rectools/models/nn/transformers/data_preparator.py:332: UserWarning: 335072 target users were considered cold because of missing known items\n",
      "  warnings.warn(explanation)\n",
      "/Users/ivanpleskov/.pyenv/versions/recsys/lib/python3.12/site-packages/rectools/models/base.py:695: UserWarning: \n",
      "                Model `<class 'rectools.models.nn.transformers.sasrec.SASRecModel'>` doesn't support recommendations for cold users,\n",
      "                but some of given users are cold: they are not in the `dataset.user_id_map`\n",
      "            \n",
      "  warnings.warn(explanation)\n"
     ]
    }
   ],
   "execution_count": 20
  },
  {
   "metadata": {
    "ExecuteTime": {
     "end_time": "2025-04-07T20:25:39.004933Z",
     "start_time": "2025-04-07T20:25:37.519029Z"
    }
   },
   "cell_type": "code",
   "source": [
    "X_train = train_df_with_features.drop(\n",
    "    columns=['watched_pct', 'last_watch_dt', 'target', 'timestamp', 'description', 'median_watched_pct',\n",
    "             'median_genre_popularity_by_age', 'median_genre_popularity_by_kids', 'median_director_popularity_by_sex',\n",
    "             'median_director_popularity_by_age', 'title', 'title_orig', 'genres', 'countries', 'studios', 'directors',\n",
    "             'actors', 'keywords', 'total_dur'])\n",
    "y_train = train_df_with_features['target']\n",
    "\n",
    "X_test = test_df_with_features.drop(\n",
    "    columns=['watched_pct', 'last_watch_dt', 'target', 'timestamp', 'description', 'median_watched_pct',\n",
    "             'median_genre_popularity_by_age', 'median_genre_popularity_by_kids', 'median_director_popularity_by_sex',\n",
    "             'median_director_popularity_by_age', 'title', 'title_orig', 'genres', 'countries', 'studios', 'directors',\n",
    "             'actors', 'keywords', 'total_dur'])\n",
    "y_test = test_df_with_features['target']\n",
    "\n",
    "categories_features = ['age', 'income', 'sex', 'kids_flg', 'content_type', 'for_kids']\n",
    "encoder = OneHotEncoder(sparse_output=False, drop='first')\n",
    "encoded_train = encoder.fit_transform(X_train[categories_features])\n",
    "encoded_test = encoder.transform(X_test[categories_features])\n",
    "encoded_feature_names = encoder.get_feature_names_out(categories_features)\n",
    "encoded_train_df = pd.DataFrame(encoded_train, columns=encoded_feature_names, index=X_train.index)\n",
    "encoded_test_df = pd.DataFrame(encoded_test, columns=encoded_feature_names, index=X_test.index)\n",
    "\n",
    "X_train = pd.concat([X_train.drop(columns=categories_features), encoded_train_df], axis=1)\n",
    "X_test = pd.concat([X_test.drop(columns=categories_features), encoded_test_df], axis=1)\n"
   ],
   "outputs": [],
   "execution_count": 92
  },
  {
   "metadata": {},
   "cell_type": "markdown",
   "source": [
    "\n",
    "### 3 Этап. Обучение финального ранкера (max 2 балла)\n",
    "Собрав все признаки из этапа 2, добавив скоры моделей из этапа 1 для каждой пары пользователь-айтем (где это возможно), пришло время обучать ранкер. В качестве ранкера можно использовать либо [xgboost](https://xgboost.readthedocs.io/en/stable/) или [catboost](https://catboost.ai/). Обучать можно как `Classfier`, так и `Ranker`, выбираем то, что лучше сработает. Обучение ранкера будет проходить на `valid_stage_1`, как  раз на которой мы валидировали модели, а тестировать на `test`, которую мы до сих пор не трогали.  Заметьте, что у нас в тесте есть холодные пользователи – те, кого не было в train и активные – те, кто был в train. Возможно их стоит обработать по отдельности (а может и нет).  \n",
    "(1 балл)\n",
    "\n",
    "После получения лучшей модели надо посмотреть на важность признаков и [shap values](https://shap.readthedocs.io/en/latest/index.html), чтобы:\n",
    "1. Интерпритировать признаки, которые вы собрали, насколько они полезные\n",
    "2. Проверить наличие ликов – если важность фичи в 100 раз больше, чем у всех остальных, то явно что-то не то  \n",
    "\n",
    "(1 балл)\n",
    "\n",
    "\n",
    "\n",
    "\n"
   ]
  },
  {
   "metadata": {
    "ExecuteTime": {
     "end_time": "2025-04-07T20:25:43.131871Z",
     "start_time": "2025-04-07T20:25:41.305948Z"
    }
   },
   "cell_type": "code",
   "source": [
    "classifier = XGBClassifier(\n",
    "    n_estimators=100,\n",
    "    max_depth=6,\n",
    "    learning_rate=0.1,\n",
    "    random_state=42,\n",
    "    eval_metric='logloss'\n",
    ")\n",
    "\n",
    "classifier.fit(X_train, y_train)\n",
    "y_pred = classifier.predict(X_test)\n",
    "\n",
    "accuracy = accuracy_score(y_test, y_pred)\n",
    "report = classification_report(y_test, y_pred)\n",
    "\n",
    "print(\"Accuracy:\", accuracy)\n",
    "print(report)"
   ],
   "outputs": [
    {
     "name": "stdout",
     "output_type": "stream",
     "text": [
      "Accuracy: 0.6622058482959406\n",
      "              precision    recall  f1-score   support\n",
      "\n",
      "           0       0.71      0.72      0.72    504857\n",
      "           1       0.58      0.57      0.58    341475\n",
      "\n",
      "    accuracy                           0.66    846332\n",
      "   macro avg       0.65      0.65      0.65    846332\n",
      "weighted avg       0.66      0.66      0.66    846332\n",
      "\n"
     ]
    }
   ],
   "execution_count": 93
  },
  {
   "metadata": {
    "ExecuteTime": {
     "end_time": "2025-04-07T20:25:44.884638Z",
     "start_time": "2025-04-07T20:25:44.764485Z"
    }
   },
   "cell_type": "code",
   "source": "plot_importance(classifier)\n",
   "outputs": [
    {
     "data": {
      "text/plain": [
       "<Axes: title={'center': 'Feature importance'}, xlabel='Importance score', ylabel='Features'>"
      ]
     },
     "execution_count": 94,
     "metadata": {},
     "output_type": "execute_result"
    },
    {
     "data": {
      "text/plain": [
       "<Figure size 640x480 with 1 Axes>"
      ],
      "image/png": "[encoded data removed]"
     },
     "metadata": {},
     "output_type": "display_data"
    }
   ],
   "execution_count": 94
  },
  {
   "metadata": {
    "ExecuteTime": {
     "end_time": "2025-04-07T20:27:01.213384Z",
     "start_time": "2025-04-07T20:25:48.198411Z"
    }
   },
   "cell_type": "code",
   "source": [
    "explainer = shap.TreeExplainer(classifier)\n",
    "shap_values = explainer.shap_values(X_test)\n",
    "\n",
    "shap.summary_plot(shap_values, X_test)\n"
   ],
   "outputs": [
    {
     "data": {
      "text/plain": [
       "<Figure size 800x950 with 2 Axes>"
      ],
      "image/png": "[encoded data removed]"
     },
     "metadata": {},
     "output_type": "display_data"
    }
   ],
   "execution_count": 95
  },
  {
   "metadata": {},
   "cell_type": "markdown",
   "source": [
    "\n",
    "### 4 Этап. Инференс лучшего ранкера (max 3 балла)\n",
    "\n",
    "Теперь мы хотим построить рекомендации \"на завтра\", для этого нам нужно:\n",
    "\n",
    "1. Обучить модели первого уровня на всех (train+test) данных (0.5 балла)\n",
    "2. Для каждой модели первого уровня для каждого пользователя сгененировать N кандидатов (0.5 балла)\n",
    "3. \"Склеить\" всех кандидатов для каждого пользователя (дубли выкинуть), посчитать скоры от всех моделей (0.5 балла)\n",
    "4. Собрать фичи для ваших кандидатов (теперь можем считать признаки на всех данных) (0.5 балла)\n",
    "5. Проскорить всех кандидатов бустингом и оставить k лучших (0.5 балла)\n",
    "6. Посчитать разнообразие(Diversity) и построить график от Diversity(k) (0.5 балла)\n",
    "\n",
    "\n",
    "Все гиперпараметры (N, k) определяете только Вы!"
   ]
  },
  {
   "metadata": {},
   "cell_type": "markdown",
   "source": "Обучение моделей 1 уровня на всех данных"
  },
  {
   "metadata": {
    "ExecuteTime": {
     "end_time": "2025-04-07T18:59:05.485819Z",
     "start_time": "2025-04-07T18:59:05.461849Z"
    }
   },
   "cell_type": "code",
   "source": "full_dataset = pd.concat([train_df, test_df], ignore_index=True)\n",
   "outputs": [],
   "execution_count": 30
  },
  {
   "metadata": {
    "ExecuteTime": {
     "end_time": "2025-04-07T18:59:05.501659Z",
     "start_time": "2025-04-07T18:59:05.489817Z"
    }
   },
   "cell_type": "code",
   "source": [
    "heuristic_model = TopPopular()\n",
    "heuristic_model.fit(train_stage_1_interactions)"
   ],
   "outputs": [],
   "execution_count": 31
  },
  {
   "metadata": {
    "ExecuteTime": {
     "end_time": "2025-04-07T19:03:11.511439Z",
     "start_time": "2025-04-07T18:59:05.536910Z"
    }
   },
   "cell_type": "code",
   "source": [
    "full_dataset_interactions = create_sparse_interactions_matrix_with_target(full_dataset)\n",
    "matrix_factorization = AlternatingLeastSquares(iterations=15)\n",
    "matrix_factorization.fit(full_dataset_interactions)"
   ],
   "outputs": [
    {
     "data": {
      "text/plain": [
       "  0%|          | 0/15 [00:00<?, ?it/s]"
      ],
      "application/vnd.jupyter.widget-view+json": {
       "version_major": 2,
       "version_minor": 0,
       "model_id": "137842f398654881ae959940ff2d20cd"
      }
     },
     "metadata": {},
     "output_type": "display_data"
    }
   ],
   "execution_count": 32
  },
  {
   "metadata": {
    "ExecuteTime": {
     "end_time": "2025-04-07T19:12:39.857806Z",
     "start_time": "2025-04-07T19:03:11.610208Z"
    }
   },
   "cell_type": "code",
   "source": [
    "full_dataset_sasrec = create_dataser_for_SasRec(full_dataset)\n",
    "dataset_sasrec_full = Dataset.construct(full_dataset_sasrec)\n",
    "\n",
    "sasrec_full = SASRecModel(\n",
    "    session_max_len=20,\n",
    "    loss=\"softmax\",\n",
    "    n_factors=64,\n",
    "    n_blocks=1,\n",
    "    n_heads=4,\n",
    "    dropout_rate=0.2,\n",
    "    lr=0.001,\n",
    "    batch_size=128,\n",
    "    epochs=5,\n",
    "    verbose=1,\n",
    ")\n",
    "sasrec_full.fit(dataset_sasrec_full)\n"
   ],
   "outputs": [
    {
     "name": "stderr",
     "output_type": "stream",
     "text": [
      "GPU available: True (mps), used: True\n",
      "TPU available: False, using: 0 TPU cores\n",
      "HPU available: False, using: 0 HPUs\n",
      "/Users/ivanpleskov/.pyenv/versions/recsys/lib/python3.12/site-packages/rectools/dataset/identifiers.py:60: FutureWarning: unique with argument that is not not a Series, Index, ExtensionArray, or np.ndarray is deprecated and will raise in a future version.\n",
      "  unq_values = pd.unique(values)\n",
      "/Users/ivanpleskov/.pyenv/versions/recsys/lib/python3.12/site-packages/rectools/models/nn/item_net.py:129: UserWarning: Ignoring `CatFeaturesItemNet` block because dataset doesn't contain item features.\n",
      "  warnings.warn(explanation)\n",
      "/Users/ivanpleskov/.pyenv/versions/recsys/lib/python3.12/site-packages/pydantic/main.py:453: UserWarning: Pydantic serializer warnings:\n",
      "  PydanticSerializationUnexpectedValue(Expected `str` - serialized value may not be as expected [input_value=('rectools.models.nn.item...net.CatFeaturesItemNet'), input_type=tuple])\n",
      "  return self.__pydantic_serializer__.to_python(\n",
      "/Users/ivanpleskov/.pyenv/versions/recsys/lib/python3.12/site-packages/pytorch_lightning/trainer/configuration_validator.py:70: You defined a `validation_step` but have no `val_dataloader`. Skipping val loop.\n",
      "\n",
      "  | Name        | Type                     | Params | Mode \n",
      "-----------------------------------------------------------------\n",
      "0 | torch_model | TransformerTorchBackbone | 914 K  | train\n",
      "-----------------------------------------------------------------\n",
      "914 K     Trainable params\n",
      "0         Non-trainable params\n",
      "914 K     Total params\n",
      "3.656     Total estimated model params size (MB)\n",
      "23        Modules in train mode\n",
      "0         Modules in eval mode\n",
      "/Users/ivanpleskov/.pyenv/versions/recsys/lib/python3.12/site-packages/pytorch_lightning/trainer/connectors/data_connector.py:425: The 'train_dataloader' does not have many workers which may be a bottleneck. Consider increasing the value of the `num_workers` argument` to `num_workers=11` in the `DataLoader` to improve performance.\n"
     ]
    },
    {
     "data": {
      "text/plain": [
       "Training: |          | 0/? [00:00<?, ?it/s]"
      ],
      "application/vnd.jupyter.widget-view+json": {
       "version_major": 2,
       "version_minor": 0,
       "model_id": "cdbb2298568647e9a315ea2f62aaea0b"
      }
     },
     "metadata": {},
     "output_type": "display_data"
    },
    {
     "name": "stderr",
     "output_type": "stream",
     "text": [
      "`Trainer.fit` stopped: `max_epochs=5` reached.\n"
     ]
    },
    {
     "data": {
      "text/plain": [
       "<rectools.models.nn.transformers.sasrec.SASRecModel at 0x3fce5d970>"
      ]
     },
     "execution_count": 33,
     "metadata": {},
     "output_type": "execute_result"
    }
   ],
   "execution_count": 33
  },
  {
   "metadata": {},
   "cell_type": "markdown",
   "source": "Генерация рекомендаций для каждого пользователя"
  },
  {
   "metadata": {
    "ExecuteTime": {
     "end_time": "2025-04-07T19:15:46.179233Z",
     "start_time": "2025-04-07T19:12:39.905579Z"
    }
   },
   "cell_type": "code",
   "source": [
    "def generate_candidates_toppopular(model, df, top_k=10):\n",
    "    users = df['user_id'].unique()\n",
    "    candidates = model.recommend(top_k=top_k)\n",
    "    return {user: candidates for user in users}\n",
    "\n",
    "\n",
    "def generate_candidates_als(model, df, train_matrix, top_k=10):\n",
    "    users = df['user_id'].unique()\n",
    "    candidates = {}\n",
    "    als_score = {}\n",
    "    for user in tqdm(users, desc=\"Generating ALS candidates\", total=len(users)):\n",
    "        recs = model.recommend(user, train_matrix[user], N=top_k)\n",
    "        if recs and isinstance(recs[0], tuple):\n",
    "            recs = [item for item, score in recs]\n",
    "        candidates[user] = recs[0]\n",
    "        als_score[user] = recs[1]\n",
    "    return candidates, als_score\n",
    "\n",
    "\n",
    "def generate_candidates_sasrec(model, df, dataset, top_k=10):\n",
    "    users = df['user_id'].unique()\n",
    "    sasrec_recs = model.recommend(\n",
    "        users=users,\n",
    "        dataset=dataset,\n",
    "        k=top_k,\n",
    "        filter_viewed=True,\n",
    "        on_unsupported_targets=\"warn\"\n",
    "    )\n",
    "    candidates = sasrec_recs.groupby('user_id')['item_id'].apply(list).to_dict()\n",
    "    return candidates, sasrec_recs\n",
    "\n",
    "\n",
    "k = 10\n",
    "toppopular_candidates = generate_candidates_toppopular(heuristic_model, full_dataset, top_k=k)\n",
    "als_candidates, als_score = generate_candidates_als(matrix_factorization, full_dataset, full_dataset_interactions,\n",
    "                                                    top_k=k)\n",
    "sasrec_candidates, sasrec_rec = generate_candidates_sasrec(sasrec_full, full_dataset, dataset_sasrec_full, top_k=k)\n"
   ],
   "outputs": [
    {
     "name": "stderr",
     "output_type": "stream",
     "text": [
      "Generating ALS candidates: 100%|██████████| 962151/962151 [02:10<00:00, 7357.46it/s]\n",
      "/Users/ivanpleskov/.pyenv/versions/recsys/lib/python3.12/site-packages/rectools/models/nn/transformers/data_preparator.py:332: UserWarning: 124 target users were considered cold because of missing known items\n",
      "  warnings.warn(explanation)\n",
      "/Users/ivanpleskov/.pyenv/versions/recsys/lib/python3.12/site-packages/rectools/models/base.py:695: UserWarning: \n",
      "                Model `<class 'rectools.models.nn.transformers.sasrec.SASRecModel'>` doesn't support recommendations for cold users,\n",
      "                but some of given users are cold: they are not in the `dataset.user_id_map`\n",
      "            \n",
      "  warnings.warn(explanation)\n"
     ]
    }
   ],
   "execution_count": 34
  },
  {
   "metadata": {},
   "cell_type": "markdown",
   "source": "Склеиваем всех кандидатов"
  },
  {
   "metadata": {
    "ExecuteTime": {
     "end_time": "2025-04-07T19:57:08.182079Z",
     "start_time": "2025-04-07T19:57:02.225467Z"
    }
   },
   "cell_type": "code",
   "source": [
    "def merge_candidates(*candidate_dicts):\n",
    "    merged = {}\n",
    "    all_users = set()\n",
    "    for cand in candidate_dicts:\n",
    "        all_users.update(cand.keys())\n",
    "\n",
    "    for user in all_users:\n",
    "        merged_set = set()\n",
    "        for cand in candidate_dicts:\n",
    "            if user in cand:\n",
    "                merged_set.update(cand[user])\n",
    "        merged[user] = list(merged_set)\n",
    "\n",
    "    return merged\n",
    "\n",
    "\n",
    "merged_candidates = merge_candidates(toppopular_candidates, als_candidates, sasrec_candidates)\n",
    "df_candidates = pd.DataFrame(list(merged_candidates.items()), columns=['user_id', 'candidates'])\n",
    "df_interactions = df_candidates.explode('candidates').rename(columns={'candidates': 'item_id'})\n"
   ],
   "outputs": [],
   "execution_count": 70
  },
  {
   "metadata": {},
   "cell_type": "markdown",
   "source": "Считаем и добавляем фичи"
  },
  {
   "metadata": {
    "ExecuteTime": {
     "end_time": "2025-04-07T20:00:07.752917Z",
     "start_time": "2025-04-07T19:57:08.186056Z"
    }
   },
   "cell_type": "code",
   "source": [
    "df_interactions['timestamp'] = test_df['timestamp'].max() + 1\n",
    "\n",
    "cutoff_day_train = full_dataset['timestamp'].max() + 2\n",
    "users_with_features = make_user_features(full_dataset, users_df, items_df, cutoff_day_train)\n",
    "items_with_features = make_item_features(full_dataset, items_df, cutoff_day_train)\n",
    "df_interactions = df_interactions.merge(users_with_features, how='left', on='user_id')\n",
    "df_interactions = df_interactions.merge(items_with_features, how='left', on='item_id')\n",
    "\n",
    "df_interactions = make_user_item_features(full_dataset, df_interactions, users_df, items_df, cutoff_day_train)\n"
   ],
   "outputs": [],
   "execution_count": 71
  },
  {
   "metadata": {
    "ExecuteTime": {
     "end_time": "2025-04-07T20:01:48.344999Z",
     "start_time": "2025-04-07T20:00:09.332116Z"
    }
   },
   "cell_type": "code",
   "source": [
    "def score_user_item(model, user_index, item_index, default_score=0.0):\n",
    "    if user_index >= model.user_factors.shape[0] or item_index >= model.item_factors.shape[0]:\n",
    "        return default_score\n",
    "    return np.dot(model.user_factors[user_index], model.item_factors[item_index])\n",
    "\n",
    "\n",
    "df_interactions['heuristic_model_score'] = df_interactions['item_id'].apply(\n",
    "    lambda x: heuristic_model.score(x))\n",
    "\n",
    "df_interactions['matrix_factorization_model_score'] = df_interactions[['user_id', 'item_id']].apply(\n",
    "    lambda x: score_user_item(matrix_factorization, x['user_id'], x['item_id']), axis=1)\n",
    "\n",
    "df_interactions = df_interactions.merge(sasrec_rec[['user_id', 'item_id', 'score']], how='left',\n",
    "                                        on=['user_id', 'item_id']).rename(\n",
    "    columns={'score': 'sasrec_model_score'})\n",
    "\n"
   ],
   "outputs": [],
   "execution_count": 72
  },
  {
   "metadata": {},
   "cell_type": "markdown",
   "source": "Скорим всех кандидатов бустингом"
  },
  {
   "metadata": {
    "ExecuteTime": {
     "end_time": "2025-04-07T20:19:22.405681Z",
     "start_time": "2025-04-07T20:19:05.887266Z"
    }
   },
   "cell_type": "code",
   "source": [
    "df_interactions.drop(\n",
    "    columns=['timestamp', 'description', 'median_watched_pct',\n",
    "             'median_genre_popularity_by_age', 'median_genre_popularity_by_kids', 'median_director_popularity_by_sex',\n",
    "             'median_director_popularity_by_age', 'title', 'title_orig', 'genres', 'countries', 'studios', 'directors',\n",
    "             'actors', 'keywords'], inplace=True)\n",
    "\n",
    "encoded_array = encoder.fit_transform(df_interactions[categories_features])\n",
    "encoded_df = pd.DataFrame(encoded_array, columns=encoder.get_feature_names_out(categories_features), index=df_interactions.index)\n",
    "df_interactions_encoded = pd.concat([df_interactions.drop(columns=categories_features), encoded_df], axis=1)\n",
    "df_interactions_encoded['item_id'] = df_interactions_encoded['item_id'].astype(int)"
   ],
   "outputs": [],
   "execution_count": 78
  },
  {
   "metadata": {
    "jupyter": {
     "is_executing": true
    }
   },
   "cell_type": "code",
   "source": [
    "df_interactions['xgb_score'] = classifier.predict_proba(df_interactions_encoded)[:, 1]\n",
    "df_scored = df_interactions.sort_values(['user_id', 'xgb_score'], ascending=[True, False])\n",
    "user_rankings = df_scored.groupby('user_id').apply(\n",
    "    lambda x: x.sort_values('xgb_score', ascending=False)['item_id'].tolist()\n",
    ").reset_index(name='ranked_items')\n"
   ],
   "outputs": [],
   "execution_count": null
  },
  {
   "metadata": {
    "ExecuteTime": {
     "end_time": "2025-04-07T20:31:41.521946Z",
     "start_time": "2025-04-07T20:31:41.516968Z"
    }
   },
   "cell_type": "code",
   "source": "user_rankings",
   "outputs": [
    {
     "data": {
      "text/plain": [
       "        user_id  \\\n",
       "0             0   \n",
       "1             1   \n",
       "2             2   \n",
       "3             3   \n",
       "4             4   \n",
       "...         ...   \n",
       "962146  1058078   \n",
       "962147  1058079   \n",
       "962148  1058080   \n",
       "962149  1058081   \n",
       "962150  1058082   \n",
       "\n",
       "                                                                                                                                                                    ranked_items  \n",
       "0                                                    [9, 2, 1, 139, 3, 4, 0, 6, 8, 5, 7, 3599, 10072, 13387, 8333, 10839, 9393, 4000, 14769, 5251, 5940, 4337, 7527, 7560, 6576]  \n",
       "1                               [3599, 13387, 14769, 9393, 10839, 8333, 496, 3648, 139, 10072, 4337, 6576, 4000, 1870, 1095, 12614, 14098, 2525, 9220, 2808, 6215, 11228, 15953]  \n",
       "2           [547, 7320, 9958, 15716, 10377, 6944, 7056, 3067, 12781, 5232, 11333, 11564, 8512, 10230, 7970, 13387, 3599, 10839, 9393, 139, 4550, 8333, 6576, 14769, 10072, 4000]  \n",
       "3       [3599, 9393, 139, 2844, 12781, 7056, 10072, 7309, 2222, 13387, 9055, 3067, 4000, 3560, 10839, 3648, 1373, 9016, 13372, 8333, 4337, 11228, 7560, 14769, 7527, 6576, 4709]  \n",
       "4                                       [3599, 8333, 10839, 13387, 9393, 139, 14769, 10072, 1784, 8852, 11918, 8895, 4313, 9724, 6961, 9560, 2981, 4000, 4279, 13863, 6576, 825]  \n",
       "...                                                                                                                                                                          ...  \n",
       "962146                                                                  [2, 139, 3599, 9, 8333, 13387, 10839, 3, 1, 10072, 9393, 6, 14769, 0, 4000, 13969, 99, 4, 8, 6576, 5, 7]  \n",
       "962147                       [10839, 1784, 4313, 3599, 8333, 13387, 139, 13933, 9393, 1566, 15736, 12057, 8493, 14235, 904, 6576, 3282, 13969, 1855, 14769, 10072, 4000, 24, 99]  \n",
       "962148                                                                 [10072, 14769, 13387, 3599, 2, 9, 9393, 1, 139, 4300, 3, 10839, 8333, 4337, 6576, 4000, 4, 6, 0, 8, 5, 7]  \n",
       "962149                                                                             [9, 2, 3599, 14769, 13387, 10072, 9393, 0, 6, 1, 4000, 5, 4, 3, 139, 10839, 8333, 6576, 7, 8]  \n",
       "962150                           [3599, 14769, 8333, 9393, 10072, 13387, 10839, 139, 3637, 6576, 4337, 3648, 9844, 5738, 11281, 11362, 14866, 4000, 6155, 5601, 15676, 14, 5970]  \n",
       "\n",
       "[962151 rows x 2 columns]"
      ],
      "text/html": [
       "<div>\n",
       "<style scoped>\n",
       "    .dataframe tbody tr th:only-of-type {\n",
       "        vertical-align: middle;\n",
       "    }\n",
       "\n",
       "    .dataframe tbody tr th {\n",
       "        vertical-align: top;\n",
       "    }\n",
       "\n",
       "    .dataframe thead th {\n",
       "        text-align: right;\n",
       "    }\n",
       "</style>\n",
       "<table border=\"1\" class=\"dataframe\">\n",
       "  <thead>\n",
       "    <tr style=\"text-align: right;\">\n",
       "      <th></th>\n",
       "      <th>user_id</th>\n",
       "      <th>ranked_items</th>\n",
       "    </tr>\n",
       "  </thead>\n",
       "  <tbody>\n",
       "    <tr>\n",
       "      <th>0</th>\n",
       "      <td>0</td>\n",
       "      <td>[9, 2, 1, 139, 3, 4, 0, 6, 8, 5, 7, 3599, 10072, 13387, 8333, 10839, 9393, 4000, 14769, 5251, 5940, 4337, 7527, 7560, 6576]</td>\n",
       "    </tr>\n",
       "    <tr>\n",
       "      <th>1</th>\n",
       "      <td>1</td>\n",
       "      <td>[3599, 13387, 14769, 9393, 10839, 8333, 496, 3648, 139, 10072, 4337, 6576, 4000, 1870, 1095, 12614, 14098, 2525, 9220, 2808, 6215, 11228, 15953]</td>\n",
       "    </tr>\n",
       "    <tr>\n",
       "      <th>2</th>\n",
       "      <td>2</td>\n",
       "      <td>[547, 7320, 9958, 15716, 10377, 6944, 7056, 3067, 12781, 5232, 11333, 11564, 8512, 10230, 7970, 13387, 3599, 10839, 9393, 139, 4550, 8333, 6576, 14769, 10072, 4000]</td>\n",
       "    </tr>\n",
       "    <tr>\n",
       "      <th>3</th>\n",
       "      <td>3</td>\n",
       "      <td>[3599, 9393, 139, 2844, 12781, 7056, 10072, 7309, 2222, 13387, 9055, 3067, 4000, 3560, 10839, 3648, 1373, 9016, 13372, 8333, 4337, 11228, 7560, 14769, 7527, 6576, 4709]</td>\n",
       "    </tr>\n",
       "    <tr>\n",
       "      <th>4</th>\n",
       "      <td>4</td>\n",
       "      <td>[3599, 8333, 10839, 13387, 9393, 139, 14769, 10072, 1784, 8852, 11918, 8895, 4313, 9724, 6961, 9560, 2981, 4000, 4279, 13863, 6576, 825]</td>\n",
       "    </tr>\n",
       "    <tr>\n",
       "      <th>...</th>\n",
       "      <td>...</td>\n",
       "      <td>...</td>\n",
       "    </tr>\n",
       "    <tr>\n",
       "      <th>962146</th>\n",
       "      <td>1058078</td>\n",
       "      <td>[2, 139, 3599, 9, 8333, 13387, 10839, 3, 1, 10072, 9393, 6, 14769, 0, 4000, 13969, 99, 4, 8, 6576, 5, 7]</td>\n",
       "    </tr>\n",
       "    <tr>\n",
       "      <th>962147</th>\n",
       "      <td>1058079</td>\n",
       "      <td>[10839, 1784, 4313, 3599, 8333, 13387, 139, 13933, 9393, 1566, 15736, 12057, 8493, 14235, 904, 6576, 3282, 13969, 1855, 14769, 10072, 4000, 24, 99]</td>\n",
       "    </tr>\n",
       "    <tr>\n",
       "      <th>962148</th>\n",
       "      <td>1058080</td>\n",
       "      <td>[10072, 14769, 13387, 3599, 2, 9, 9393, 1, 139, 4300, 3, 10839, 8333, 4337, 6576, 4000, 4, 6, 0, 8, 5, 7]</td>\n",
       "    </tr>\n",
       "    <tr>\n",
       "      <th>962149</th>\n",
       "      <td>1058081</td>\n",
       "      <td>[9, 2, 3599, 14769, 13387, 10072, 9393, 0, 6, 1, 4000, 5, 4, 3, 139, 10839, 8333, 6576, 7, 8]</td>\n",
       "    </tr>\n",
       "    <tr>\n",
       "      <th>962150</th>\n",
       "      <td>1058082</td>\n",
       "      <td>[3599, 14769, 8333, 9393, 10072, 13387, 10839, 139, 3637, 6576, 4337, 3648, 9844, 5738, 11281, 11362, 14866, 4000, 6155, 5601, 15676, 14, 5970]</td>\n",
       "    </tr>\n",
       "  </tbody>\n",
       "</table>\n",
       "<p>962151 rows × 2 columns</p>\n",
       "</div>"
      ]
     },
     "execution_count": 100,
     "metadata": {},
     "output_type": "execute_result"
    }
   ],
   "execution_count": 100
  }
 ],
 "metadata": {
  "kernelspec": {
   "display_name": "Python (RecSys)",
   "language": "python",
   "name": "recsys"
  },
  "language_info": {
   "codemirror_mode": {
    "name": "ipython",
    "version": 3
   },
   "file_extension": ".py",
   "mimetype": "text/x-python",
   "name": "python",
   "nbconvert_exporter": "python",
   "pygments_lexer": "ipython3",
   "version": "3.12.2"
  }
 },
 "nbformat": 4,
 "nbformat_minor": 4
}
